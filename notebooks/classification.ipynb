{
 "cells": [
  {
   "cell_type": "code",
   "execution_count": 1,
   "metadata": {},
   "outputs": [],
   "source": [
    "import torch\n",
    "from torch import nn\n",
    "from torch.optim import Adam, Optimizer\n",
    "from torch.nn import functional as F\n",
    "from torch.utils.data import Dataset, DataLoader\n",
    "from tqdm import tqdm\n",
    "import matplotlib.pyplot as plt\n",
    "\n",
    "from mil_autoencoder.model.vae import VAE\n",
    "from mil_autoencoder.data.loader import load_data, create_loaders\n",
    "from mil_autoencoder.data.transformers import simple_transform\n",
    "from mil_autoencoder.paths import DATA, TRAINED_MODELS\n",
    "\n",
    "%matplotlib inline"
   ]
  },
  {
   "attachments": {},
   "cell_type": "markdown",
   "metadata": {},
   "source": [
    "# Model"
   ]
  },
  {
   "cell_type": "code",
   "execution_count": 2,
   "metadata": {},
   "outputs": [],
   "source": [
    "import typing as tp\n",
    "from pathlib import Path\n",
    "\n",
    "class ClassificationHead(nn.Module):\n",
    "    def __init__(self, encoder: nn.Module, latent_size: int, start_dim: int = 32) -> None:\n",
    "        super().__init__()\n",
    "        \n",
    "        self.encoder = encoder\n",
    "        self.encoder.requires_grad_(False)\n",
    "        self.num_of_classes = 10\n",
    "        self.head = self.build_head(latent_size, start_dim)\n",
    "    \n",
    "    def build_head(self, latent_size: int, start_size: int = 32) -> nn.Module:\n",
    "        modules = []\n",
    "        dims = [start_size]\n",
    "        start_pow = len(f\"{start_size - 1:b}\") - 1\n",
    "        dims.extend([2 ** i for i in range(start_pow, 3, -1)])\n",
    "        prev_dim = latent_size\n",
    "\n",
    "        for dim in dims:\n",
    "            modules.append(\n",
    "                nn.Sequential(\n",
    "                    nn.Linear(prev_dim, dim),\n",
    "                    nn.BatchNorm1d(dim),\n",
    "                    nn.ReLU(),\n",
    "                ),\n",
    "            )\n",
    "            prev_dim = dim\n",
    "        \n",
    "        modules.append(nn.Linear(prev_dim, self.num_of_classes))\n",
    "        return nn.Sequential(*modules)\n",
    "\n",
    "    def forward(self, img: torch.Tensor):\n",
    "        latent_repr, _ = self.encoder(img)\n",
    "        return self.head(latent_repr)\n",
    "    \n",
    "    def unfreeze_encoder(self):\n",
    "        self.encoder.requires_grad_(True)"
   ]
  },
  {
   "cell_type": "code",
   "execution_count": 10,
   "metadata": {},
   "outputs": [],
   "source": [
    "vae_path = TRAINED_MODELS / \"smaller_vae_state_dict50\"\n",
    "vae_params = {\n",
    "    \"img_size\": 32,\n",
    "    \"downsamplings\": 3,\n",
    "    \"latent_size\": 64,\n",
    "    \"linear_hidden_size\": 128,\n",
    "    \"down_channels\": 4,\n",
    "    \"up_channels\": 4,\n",
    "}\n",
    "\n",
    "vae = VAE(**vae_params)\n",
    "vae.load_state_dict(torch.load(vae_path, map_location=torch.device('cpu')))\n",
    "\n",
    "model = ClassificationHead(encoder=vae.encoder, latent_size=vae_params[\"latent_size\"])"
   ]
  },
  {
   "attachments": {},
   "cell_type": "markdown",
   "metadata": {},
   "source": [
    "# Train"
   ]
  },
  {
   "cell_type": "code",
   "execution_count": 3,
   "metadata": {},
   "outputs": [],
   "source": [
    "from sklearn.metrics import classification_report\n",
    "import numpy as np\n",
    "\n",
    "device = torch.device('cuda' if torch.cuda.is_available() else 'cpu')"
   ]
  },
  {
   "cell_type": "code",
   "execution_count": 4,
   "metadata": {},
   "outputs": [
    {
     "name": "stdout",
     "output_type": "stream",
     "text": [
      "Files already downloaded and verified\n",
      "Files already downloaded and verified\n"
     ]
    }
   ],
   "source": [
    "trainset, testset, classes = load_data(DATA, simple_transform(), simple_transform())\n",
    "trainloader, testloader = create_loaders(\n",
    "    trainset,\n",
    "    testset,\n",
    "    train_batch=32,\n",
    "    test_batch=32,\n",
    ")"
   ]
  },
  {
   "cell_type": "code",
   "execution_count": 57,
   "metadata": {},
   "outputs": [],
   "source": [
    "def train(\n",
    "    model: nn.Module,\n",
    "    optim: Optimizer,\n",
    "    loss_func: tp.Callable[[torch.Tensor, torch.Tensor], torch.Tensor],\n",
    "    epochs: int,\n",
    "    trainloader: DataLoader,\n",
    "    testloader: DataLoader,\n",
    "    labels: tp.Set[str], \n",
    "    device: torch.device):\n",
    "    \n",
    "    train_loss_history = []\n",
    "    test_loss_hitory = []\n",
    "\n",
    "    model.to(device)\n",
    "\n",
    "    for ep in range(1, epochs + 1):\n",
    "        avg_loss = 0\n",
    "        total_batches = 0\n",
    "\n",
    "        model.train()\n",
    "        for imgs, target in tqdm(trainloader, desc=f\"Train #{ep}\"):\n",
    "            total_batches += 1\n",
    "            imgs.to(device)\n",
    "            preds = model(imgs)\n",
    "            loss = loss_func(preds, target)\n",
    "            optim.zero_grad()\n",
    "            loss.backward()\n",
    "            optim.step()\n",
    "            avg_loss += loss.item()\n",
    "        \n",
    "        avg_loss /= total_batches\n",
    "        train_loss_history.append(avg_loss)\n",
    "        print(f\"Epoch #{ep} | Train Avg Loss: {avg_loss:.4f} \")\n",
    "\n",
    "        model.eval()\n",
    "        with torch.no_grad():\n",
    "            avg_loss = 0\n",
    "            total_batches = 0\n",
    "            preds_labels = np.array([])\n",
    "            target_labels = np.array([])\n",
    "            for imgs, target in tqdm(testloader, desc=f\"Test #{ep}\"):\n",
    "                total_batches += 1\n",
    "                imgs.to(device)\n",
    "                preds = model(imgs)\n",
    "                avg_loss += loss_func(preds, target).item()\n",
    "                preds = preds.detach().cpu().numpy()\n",
    "                batch_pred_labels = preds.argmax(axis=1)\n",
    "                preds_labels = np.concatenate((preds_labels, batch_pred_labels))\n",
    "                target_labels = np.concatenate((target_labels, target.detach().numpy()))\n",
    "            \n",
    "            avg_loss /= total_batches\n",
    "            test_loss_hitory.append(avg_loss)\n",
    "            print(f\"Epoch #{ep} | Test Avg Loss: {avg_loss:.4f} \")\n",
    "            print(classification_report(target_labels.astype(int), preds_labels.astype(int), target_names=labels))\n",
    "    \n",
    "    return train_loss_history, test_loss_hitory"
   ]
  },
  {
   "attachments": {},
   "cell_type": "markdown",
   "metadata": {},
   "source": [
    "## Small Model"
   ]
  },
  {
   "cell_type": "code",
   "execution_count": 58,
   "metadata": {},
   "outputs": [],
   "source": [
    "vae_path = TRAINED_MODELS / \"smaller_vae_state_dict50\"\n",
    "vae_params = {\n",
    "    \"img_size\": 32,\n",
    "    \"downsamplings\": 3,\n",
    "    \"latent_size\": 64,\n",
    "    \"linear_hidden_size\": 128,\n",
    "    \"down_channels\": 4,\n",
    "    \"up_channels\": 4,\n",
    "}\n",
    "\n",
    "vae = VAE(**vae_params)\n",
    "vae.load_state_dict(torch.load(vae_path, map_location=torch.device('cpu')))\n",
    "\n",
    "model = ClassificationHead(encoder=vae.encoder, latent_size=vae_params[\"latent_size\"])\n",
    "optim = Adam(model.parameters())\n",
    "loss_function = nn.CrossEntropyLoss()\n"
   ]
  },
  {
   "cell_type": "code",
   "execution_count": 59,
   "metadata": {},
   "outputs": [
    {
     "name": "stderr",
     "output_type": "stream",
     "text": [
      "Train #1: 100%|██████████| 1563/1563 [00:54<00:00, 28.61it/s]\n"
     ]
    },
    {
     "name": "stdout",
     "output_type": "stream",
     "text": [
      "Epoch #1 | Train Avg Loss: 1.8915 \n"
     ]
    },
    {
     "name": "stderr",
     "output_type": "stream",
     "text": [
      "Test #1: 100%|██████████| 313/313 [00:07<00:00, 43.25it/s]\n"
     ]
    },
    {
     "name": "stdout",
     "output_type": "stream",
     "text": [
      "Epoch #1 | Test Avg Loss: 1.6740 \n",
      "              precision    recall  f1-score   support\n",
      "\n",
      "       plane       0.46      0.52      0.49      1000\n",
      "         car       0.48      0.54      0.51      1000\n",
      "        bird       0.30      0.16      0.21      1000\n",
      "         cat       0.29      0.15      0.20      1000\n",
      "        deer       0.34      0.31      0.33      1000\n",
      "         dog       0.37      0.35      0.36      1000\n",
      "        frog       0.35      0.54      0.42      1000\n",
      "       horse       0.41      0.42      0.42      1000\n",
      "        ship       0.47      0.59      0.52      1000\n",
      "       truck       0.47      0.47      0.47      1000\n",
      "\n",
      "    accuracy                           0.41     10000\n",
      "   macro avg       0.39      0.41      0.39     10000\n",
      "weighted avg       0.39      0.41      0.39     10000\n",
      "\n"
     ]
    },
    {
     "name": "stderr",
     "output_type": "stream",
     "text": [
      "Train #2: 100%|██████████| 1563/1563 [00:46<00:00, 33.77it/s]\n"
     ]
    },
    {
     "name": "stdout",
     "output_type": "stream",
     "text": [
      "Epoch #2 | Train Avg Loss: 1.6743 \n"
     ]
    },
    {
     "name": "stderr",
     "output_type": "stream",
     "text": [
      "Test #2: 100%|██████████| 313/313 [00:06<00:00, 46.79it/s]\n"
     ]
    },
    {
     "name": "stdout",
     "output_type": "stream",
     "text": [
      "Epoch #2 | Test Avg Loss: 1.5945 \n",
      "              precision    recall  f1-score   support\n",
      "\n",
      "       plane       0.48      0.52      0.50      1000\n",
      "         car       0.53      0.56      0.54      1000\n",
      "        bird       0.28      0.17      0.22      1000\n",
      "         cat       0.30      0.19      0.23      1000\n",
      "        deer       0.35      0.37      0.36      1000\n",
      "         dog       0.40      0.34      0.36      1000\n",
      "        frog       0.37      0.56      0.44      1000\n",
      "       horse       0.46      0.47      0.47      1000\n",
      "        ship       0.52      0.59      0.56      1000\n",
      "       truck       0.46      0.47      0.47      1000\n",
      "\n",
      "    accuracy                           0.42     10000\n",
      "   macro avg       0.41      0.42      0.41     10000\n",
      "weighted avg       0.41      0.42      0.41     10000\n",
      "\n"
     ]
    },
    {
     "name": "stderr",
     "output_type": "stream",
     "text": [
      "Train #3: 100%|██████████| 1563/1563 [00:41<00:00, 37.82it/s]\n"
     ]
    },
    {
     "name": "stdout",
     "output_type": "stream",
     "text": [
      "Epoch #3 | Train Avg Loss: 1.6161 \n"
     ]
    },
    {
     "name": "stderr",
     "output_type": "stream",
     "text": [
      "Test #3: 100%|██████████| 313/313 [00:08<00:00, 37.87it/s]\n"
     ]
    },
    {
     "name": "stdout",
     "output_type": "stream",
     "text": [
      "Epoch #3 | Test Avg Loss: 1.5558 \n",
      "              precision    recall  f1-score   support\n",
      "\n",
      "       plane       0.50      0.56      0.53      1000\n",
      "         car       0.54      0.60      0.57      1000\n",
      "        bird       0.31      0.25      0.28      1000\n",
      "         cat       0.30      0.25      0.27      1000\n",
      "        deer       0.36      0.36      0.36      1000\n",
      "         dog       0.42      0.30      0.35      1000\n",
      "        frog       0.39      0.62      0.48      1000\n",
      "       horse       0.52      0.45      0.48      1000\n",
      "        ship       0.56      0.60      0.58      1000\n",
      "       truck       0.51      0.47      0.49      1000\n",
      "\n",
      "    accuracy                           0.45     10000\n",
      "   macro avg       0.44      0.45      0.44     10000\n",
      "weighted avg       0.44      0.45      0.44     10000\n",
      "\n"
     ]
    },
    {
     "name": "stderr",
     "output_type": "stream",
     "text": [
      "Train #4: 100%|██████████| 1563/1563 [00:45<00:00, 34.15it/s]\n"
     ]
    },
    {
     "name": "stdout",
     "output_type": "stream",
     "text": [
      "Epoch #4 | Train Avg Loss: 1.5863 \n"
     ]
    },
    {
     "name": "stderr",
     "output_type": "stream",
     "text": [
      "Test #4: 100%|██████████| 313/313 [00:06<00:00, 50.85it/s]\n"
     ]
    },
    {
     "name": "stdout",
     "output_type": "stream",
     "text": [
      "Epoch #4 | Test Avg Loss: 1.5310 \n",
      "              precision    recall  f1-score   support\n",
      "\n",
      "       plane       0.55      0.52      0.53      1000\n",
      "         car       0.54      0.60      0.57      1000\n",
      "        bird       0.31      0.27      0.29      1000\n",
      "         cat       0.30      0.21      0.24      1000\n",
      "        deer       0.37      0.36      0.37      1000\n",
      "         dog       0.40      0.39      0.39      1000\n",
      "        frog       0.41      0.56      0.47      1000\n",
      "       horse       0.53      0.45      0.49      1000\n",
      "        ship       0.54      0.63      0.58      1000\n",
      "       truck       0.50      0.52      0.51      1000\n",
      "\n",
      "    accuracy                           0.45     10000\n",
      "   macro avg       0.44      0.45      0.44     10000\n",
      "weighted avg       0.44      0.45      0.44     10000\n",
      "\n"
     ]
    },
    {
     "name": "stderr",
     "output_type": "stream",
     "text": [
      "Train #5: 100%|██████████| 1563/1563 [00:52<00:00, 29.54it/s]\n"
     ]
    },
    {
     "name": "stdout",
     "output_type": "stream",
     "text": [
      "Epoch #5 | Train Avg Loss: 1.5662 \n"
     ]
    },
    {
     "name": "stderr",
     "output_type": "stream",
     "text": [
      "Test #5: 100%|██████████| 313/313 [00:14<00:00, 22.05it/s]\n"
     ]
    },
    {
     "name": "stdout",
     "output_type": "stream",
     "text": [
      "Epoch #5 | Test Avg Loss: 1.5201 \n",
      "              precision    recall  f1-score   support\n",
      "\n",
      "       plane       0.56      0.53      0.55      1000\n",
      "         car       0.59      0.57      0.58      1000\n",
      "        bird       0.34      0.22      0.27      1000\n",
      "         cat       0.29      0.18      0.22      1000\n",
      "        deer       0.36      0.41      0.39      1000\n",
      "         dog       0.40      0.37      0.39      1000\n",
      "        frog       0.38      0.62      0.48      1000\n",
      "       horse       0.50      0.51      0.51      1000\n",
      "        ship       0.58      0.61      0.59      1000\n",
      "       truck       0.51      0.53      0.52      1000\n",
      "\n",
      "    accuracy                           0.46     10000\n",
      "   macro avg       0.45      0.46      0.45     10000\n",
      "weighted avg       0.45      0.46      0.45     10000\n",
      "\n"
     ]
    },
    {
     "name": "stderr",
     "output_type": "stream",
     "text": [
      "Train #6: 100%|██████████| 1563/1563 [01:04<00:00, 24.27it/s]\n"
     ]
    },
    {
     "name": "stdout",
     "output_type": "stream",
     "text": [
      "Epoch #6 | Train Avg Loss: 1.5572 \n"
     ]
    },
    {
     "name": "stderr",
     "output_type": "stream",
     "text": [
      "Test #6: 100%|██████████| 313/313 [00:12<00:00, 25.31it/s]\n"
     ]
    },
    {
     "name": "stdout",
     "output_type": "stream",
     "text": [
      "Epoch #6 | Test Avg Loss: 1.5119 \n",
      "              precision    recall  f1-score   support\n",
      "\n",
      "       plane       0.55      0.55      0.55      1000\n",
      "         car       0.57      0.56      0.57      1000\n",
      "        bird       0.35      0.26      0.30      1000\n",
      "         cat       0.34      0.12      0.18      1000\n",
      "        deer       0.39      0.41      0.40      1000\n",
      "         dog       0.37      0.41      0.39      1000\n",
      "        frog       0.41      0.62      0.49      1000\n",
      "       horse       0.49      0.52      0.50      1000\n",
      "        ship       0.59      0.62      0.60      1000\n",
      "       truck       0.50      0.54      0.52      1000\n",
      "\n",
      "    accuracy                           0.46     10000\n",
      "   macro avg       0.45      0.46      0.45     10000\n",
      "weighted avg       0.45      0.46      0.45     10000\n",
      "\n"
     ]
    },
    {
     "name": "stderr",
     "output_type": "stream",
     "text": [
      "Train #7: 100%|██████████| 1563/1563 [01:47<00:00, 14.50it/s]\n"
     ]
    },
    {
     "name": "stdout",
     "output_type": "stream",
     "text": [
      "Epoch #7 | Train Avg Loss: 1.5434 \n"
     ]
    },
    {
     "name": "stderr",
     "output_type": "stream",
     "text": [
      "Test #7: 100%|██████████| 313/313 [00:08<00:00, 37.05it/s]\n"
     ]
    },
    {
     "name": "stdout",
     "output_type": "stream",
     "text": [
      "Epoch #7 | Test Avg Loss: 1.5037 \n",
      "              precision    recall  f1-score   support\n",
      "\n",
      "       plane       0.55      0.55      0.55      1000\n",
      "         car       0.56      0.56      0.56      1000\n",
      "        bird       0.35      0.24      0.29      1000\n",
      "         cat       0.33      0.21      0.26      1000\n",
      "        deer       0.36      0.45      0.40      1000\n",
      "         dog       0.38      0.36      0.37      1000\n",
      "        frog       0.43      0.57      0.49      1000\n",
      "       horse       0.47      0.52      0.50      1000\n",
      "        ship       0.56      0.64      0.59      1000\n",
      "       truck       0.54      0.48      0.51      1000\n",
      "\n",
      "    accuracy                           0.46     10000\n",
      "   macro avg       0.45      0.46      0.45     10000\n",
      "weighted avg       0.45      0.46      0.45     10000\n",
      "\n"
     ]
    },
    {
     "name": "stderr",
     "output_type": "stream",
     "text": [
      "Train #8: 100%|██████████| 1563/1563 [01:13<00:00, 21.28it/s]\n"
     ]
    },
    {
     "name": "stdout",
     "output_type": "stream",
     "text": [
      "Epoch #8 | Train Avg Loss: 1.5374 \n"
     ]
    },
    {
     "name": "stderr",
     "output_type": "stream",
     "text": [
      "Test #8: 100%|██████████| 313/313 [00:13<00:00, 23.44it/s]\n"
     ]
    },
    {
     "name": "stdout",
     "output_type": "stream",
     "text": [
      "Epoch #8 | Test Avg Loss: 1.4914 \n",
      "              precision    recall  f1-score   support\n",
      "\n",
      "       plane       0.55      0.53      0.54      1000\n",
      "         car       0.58      0.57      0.58      1000\n",
      "        bird       0.34      0.27      0.30      1000\n",
      "         cat       0.33      0.23      0.27      1000\n",
      "        deer       0.42      0.35      0.38      1000\n",
      "         dog       0.38      0.37      0.38      1000\n",
      "        frog       0.42      0.65      0.51      1000\n",
      "       horse       0.48      0.54      0.51      1000\n",
      "        ship       0.56      0.64      0.60      1000\n",
      "       truck       0.53      0.51      0.52      1000\n",
      "\n",
      "    accuracy                           0.47     10000\n",
      "   macro avg       0.46      0.47      0.46     10000\n",
      "weighted avg       0.46      0.47      0.46     10000\n",
      "\n"
     ]
    },
    {
     "name": "stderr",
     "output_type": "stream",
     "text": [
      "Train #9: 100%|██████████| 1563/1563 [00:48<00:00, 32.41it/s]\n"
     ]
    },
    {
     "name": "stdout",
     "output_type": "stream",
     "text": [
      "Epoch #9 | Train Avg Loss: 1.5306 \n"
     ]
    },
    {
     "name": "stderr",
     "output_type": "stream",
     "text": [
      "Test #9: 100%|██████████| 313/313 [00:08<00:00, 38.40it/s]\n"
     ]
    },
    {
     "name": "stdout",
     "output_type": "stream",
     "text": [
      "Epoch #9 | Test Avg Loss: 1.4923 \n",
      "              precision    recall  f1-score   support\n",
      "\n",
      "       plane       0.54      0.54      0.54      1000\n",
      "         car       0.58      0.58      0.58      1000\n",
      "        bird       0.35      0.27      0.30      1000\n",
      "         cat       0.33      0.19      0.24      1000\n",
      "        deer       0.40      0.40      0.40      1000\n",
      "         dog       0.39      0.41      0.40      1000\n",
      "        frog       0.42      0.64      0.51      1000\n",
      "       horse       0.49      0.53      0.51      1000\n",
      "        ship       0.57      0.63      0.60      1000\n",
      "       truck       0.55      0.48      0.51      1000\n",
      "\n",
      "    accuracy                           0.47     10000\n",
      "   macro avg       0.46      0.47      0.46     10000\n",
      "weighted avg       0.46      0.47      0.46     10000\n",
      "\n"
     ]
    },
    {
     "name": "stderr",
     "output_type": "stream",
     "text": [
      "Train #10: 100%|██████████| 1563/1563 [00:48<00:00, 32.44it/s]\n"
     ]
    },
    {
     "name": "stdout",
     "output_type": "stream",
     "text": [
      "Epoch #10 | Train Avg Loss: 1.5267 \n"
     ]
    },
    {
     "name": "stderr",
     "output_type": "stream",
     "text": [
      "Test #10: 100%|██████████| 313/313 [00:06<00:00, 46.87it/s]\n"
     ]
    },
    {
     "name": "stdout",
     "output_type": "stream",
     "text": [
      "Epoch #10 | Test Avg Loss: 1.4859 \n",
      "              precision    recall  f1-score   support\n",
      "\n",
      "       plane       0.57      0.49      0.53      1000\n",
      "         car       0.57      0.58      0.58      1000\n",
      "        bird       0.32      0.33      0.33      1000\n",
      "         cat       0.32      0.22      0.26      1000\n",
      "        deer       0.42      0.32      0.36      1000\n",
      "         dog       0.38      0.41      0.39      1000\n",
      "        frog       0.45      0.60      0.51      1000\n",
      "       horse       0.48      0.54      0.51      1000\n",
      "        ship       0.60      0.60      0.60      1000\n",
      "       truck       0.51      0.56      0.53      1000\n",
      "\n",
      "    accuracy                           0.47     10000\n",
      "   macro avg       0.46      0.47      0.46     10000\n",
      "weighted avg       0.46      0.47      0.46     10000\n",
      "\n"
     ]
    },
    {
     "name": "stderr",
     "output_type": "stream",
     "text": [
      "Train #11: 100%|██████████| 1563/1563 [00:43<00:00, 35.84it/s]\n"
     ]
    },
    {
     "name": "stdout",
     "output_type": "stream",
     "text": [
      "Epoch #11 | Train Avg Loss: 1.5239 \n"
     ]
    },
    {
     "name": "stderr",
     "output_type": "stream",
     "text": [
      "Test #11: 100%|██████████| 313/313 [00:08<00:00, 36.79it/s]\n"
     ]
    },
    {
     "name": "stdout",
     "output_type": "stream",
     "text": [
      "Epoch #11 | Test Avg Loss: 1.4792 \n",
      "              precision    recall  f1-score   support\n",
      "\n",
      "       plane       0.54      0.55      0.54      1000\n",
      "         car       0.56      0.61      0.59      1000\n",
      "        bird       0.34      0.28      0.31      1000\n",
      "         cat       0.34      0.22      0.27      1000\n",
      "        deer       0.41      0.40      0.40      1000\n",
      "         dog       0.40      0.38      0.39      1000\n",
      "        frog       0.45      0.60      0.51      1000\n",
      "       horse       0.49      0.53      0.51      1000\n",
      "        ship       0.57      0.64      0.60      1000\n",
      "       truck       0.52      0.51      0.52      1000\n",
      "\n",
      "    accuracy                           0.47     10000\n",
      "   macro avg       0.46      0.47      0.46     10000\n",
      "weighted avg       0.46      0.47      0.46     10000\n",
      "\n"
     ]
    },
    {
     "name": "stderr",
     "output_type": "stream",
     "text": [
      "Train #12: 100%|██████████| 1563/1563 [00:46<00:00, 33.80it/s]\n"
     ]
    },
    {
     "name": "stdout",
     "output_type": "stream",
     "text": [
      "Epoch #12 | Train Avg Loss: 1.5191 \n"
     ]
    },
    {
     "name": "stderr",
     "output_type": "stream",
     "text": [
      "Test #12: 100%|██████████| 313/313 [00:08<00:00, 37.09it/s]\n"
     ]
    },
    {
     "name": "stdout",
     "output_type": "stream",
     "text": [
      "Epoch #12 | Test Avg Loss: 1.4818 \n",
      "              precision    recall  f1-score   support\n",
      "\n",
      "       plane       0.56      0.53      0.54      1000\n",
      "         car       0.60      0.55      0.57      1000\n",
      "        bird       0.35      0.29      0.32      1000\n",
      "         cat       0.34      0.21      0.26      1000\n",
      "        deer       0.39      0.41      0.40      1000\n",
      "         dog       0.40      0.40      0.40      1000\n",
      "        frog       0.44      0.58      0.50      1000\n",
      "       horse       0.49      0.55      0.51      1000\n",
      "        ship       0.55      0.66      0.60      1000\n",
      "       truck       0.53      0.53      0.53      1000\n",
      "\n",
      "    accuracy                           0.47     10000\n",
      "   macro avg       0.46      0.47      0.46     10000\n",
      "weighted avg       0.46      0.47      0.46     10000\n",
      "\n"
     ]
    },
    {
     "name": "stderr",
     "output_type": "stream",
     "text": [
      "Train #13: 100%|██████████| 1563/1563 [00:44<00:00, 35.44it/s]\n"
     ]
    },
    {
     "name": "stdout",
     "output_type": "stream",
     "text": [
      "Epoch #13 | Train Avg Loss: 1.5129 \n"
     ]
    },
    {
     "name": "stderr",
     "output_type": "stream",
     "text": [
      "Test #13: 100%|██████████| 313/313 [00:07<00:00, 43.84it/s]\n"
     ]
    },
    {
     "name": "stdout",
     "output_type": "stream",
     "text": [
      "Epoch #13 | Test Avg Loss: 1.4807 \n",
      "              precision    recall  f1-score   support\n",
      "\n",
      "       plane       0.60      0.46      0.52      1000\n",
      "         car       0.56      0.62      0.59      1000\n",
      "        bird       0.36      0.27      0.31      1000\n",
      "         cat       0.32      0.28      0.30      1000\n",
      "        deer       0.41      0.35      0.38      1000\n",
      "         dog       0.40      0.35      0.37      1000\n",
      "        frog       0.43      0.63      0.51      1000\n",
      "       horse       0.48      0.57      0.52      1000\n",
      "        ship       0.55      0.65      0.60      1000\n",
      "       truck       0.54      0.50      0.52      1000\n",
      "\n",
      "    accuracy                           0.47     10000\n",
      "   macro avg       0.47      0.47      0.46     10000\n",
      "weighted avg       0.47      0.47      0.46     10000\n",
      "\n"
     ]
    },
    {
     "name": "stderr",
     "output_type": "stream",
     "text": [
      "Train #14: 100%|██████████| 1563/1563 [00:49<00:00, 31.63it/s]\n"
     ]
    },
    {
     "name": "stdout",
     "output_type": "stream",
     "text": [
      "Epoch #14 | Train Avg Loss: 1.5147 \n"
     ]
    },
    {
     "name": "stderr",
     "output_type": "stream",
     "text": [
      "Test #14: 100%|██████████| 313/313 [00:07<00:00, 44.31it/s]\n"
     ]
    },
    {
     "name": "stdout",
     "output_type": "stream",
     "text": [
      "Epoch #14 | Test Avg Loss: 1.4754 \n",
      "              precision    recall  f1-score   support\n",
      "\n",
      "       plane       0.54      0.57      0.55      1000\n",
      "         car       0.57      0.61      0.59      1000\n",
      "        bird       0.36      0.28      0.32      1000\n",
      "         cat       0.33      0.24      0.28      1000\n",
      "        deer       0.41      0.35      0.38      1000\n",
      "         dog       0.46      0.30      0.37      1000\n",
      "        frog       0.41      0.66      0.51      1000\n",
      "       horse       0.48      0.54      0.51      1000\n",
      "        ship       0.56      0.66      0.61      1000\n",
      "       truck       0.54      0.49      0.52      1000\n",
      "\n",
      "    accuracy                           0.47     10000\n",
      "   macro avg       0.47      0.47      0.46     10000\n",
      "weighted avg       0.47      0.47      0.46     10000\n",
      "\n"
     ]
    },
    {
     "name": "stderr",
     "output_type": "stream",
     "text": [
      "Train #15: 100%|██████████| 1563/1563 [00:45<00:00, 34.21it/s]\n"
     ]
    },
    {
     "name": "stdout",
     "output_type": "stream",
     "text": [
      "Epoch #15 | Train Avg Loss: 1.5151 \n"
     ]
    },
    {
     "name": "stderr",
     "output_type": "stream",
     "text": [
      "Test #15: 100%|██████████| 313/313 [00:07<00:00, 42.32it/s]\n"
     ]
    },
    {
     "name": "stdout",
     "output_type": "stream",
     "text": [
      "Epoch #15 | Test Avg Loss: 1.4696 \n",
      "              precision    recall  f1-score   support\n",
      "\n",
      "       plane       0.59      0.48      0.53      1000\n",
      "         car       0.59      0.60      0.60      1000\n",
      "        bird       0.36      0.28      0.32      1000\n",
      "         cat       0.34      0.20      0.25      1000\n",
      "        deer       0.41      0.38      0.39      1000\n",
      "         dog       0.38      0.44      0.41      1000\n",
      "        frog       0.44      0.62      0.51      1000\n",
      "       horse       0.51      0.53      0.52      1000\n",
      "        ship       0.55      0.67      0.61      1000\n",
      "       truck       0.54      0.55      0.54      1000\n",
      "\n",
      "    accuracy                           0.48     10000\n",
      "   macro avg       0.47      0.48      0.47     10000\n",
      "weighted avg       0.47      0.48      0.47     10000\n",
      "\n"
     ]
    },
    {
     "name": "stderr",
     "output_type": "stream",
     "text": [
      "Train #16: 100%|██████████| 1563/1563 [00:45<00:00, 34.70it/s]\n"
     ]
    },
    {
     "name": "stdout",
     "output_type": "stream",
     "text": [
      "Epoch #16 | Train Avg Loss: 1.5051 \n"
     ]
    },
    {
     "name": "stderr",
     "output_type": "stream",
     "text": [
      "Test #16: 100%|██████████| 313/313 [00:07<00:00, 44.46it/s]\n"
     ]
    },
    {
     "name": "stdout",
     "output_type": "stream",
     "text": [
      "Epoch #16 | Test Avg Loss: 1.4685 \n",
      "              precision    recall  f1-score   support\n",
      "\n",
      "       plane       0.58      0.53      0.56      1000\n",
      "         car       0.58      0.60      0.59      1000\n",
      "        bird       0.34      0.31      0.32      1000\n",
      "         cat       0.35      0.20      0.26      1000\n",
      "        deer       0.38      0.41      0.39      1000\n",
      "         dog       0.43      0.38      0.41      1000\n",
      "        frog       0.44      0.62      0.51      1000\n",
      "       horse       0.49      0.55      0.52      1000\n",
      "        ship       0.58      0.63      0.61      1000\n",
      "       truck       0.54      0.54      0.54      1000\n",
      "\n",
      "    accuracy                           0.48     10000\n",
      "   macro avg       0.47      0.48      0.47     10000\n",
      "weighted avg       0.47      0.48      0.47     10000\n",
      "\n"
     ]
    },
    {
     "name": "stderr",
     "output_type": "stream",
     "text": [
      "Train #17: 100%|██████████| 1563/1563 [00:46<00:00, 33.59it/s]\n"
     ]
    },
    {
     "name": "stdout",
     "output_type": "stream",
     "text": [
      "Epoch #17 | Train Avg Loss: 1.5086 \n"
     ]
    },
    {
     "name": "stderr",
     "output_type": "stream",
     "text": [
      "Test #17: 100%|██████████| 313/313 [00:08<00:00, 36.42it/s]\n"
     ]
    },
    {
     "name": "stdout",
     "output_type": "stream",
     "text": [
      "Epoch #17 | Test Avg Loss: 1.4662 \n",
      "              precision    recall  f1-score   support\n",
      "\n",
      "       plane       0.56      0.55      0.55      1000\n",
      "         car       0.55      0.65      0.59      1000\n",
      "        bird       0.37      0.20      0.26      1000\n",
      "         cat       0.34      0.26      0.29      1000\n",
      "        deer       0.36      0.46      0.40      1000\n",
      "         dog       0.43      0.34      0.38      1000\n",
      "        frog       0.43      0.63      0.51      1000\n",
      "       horse       0.53      0.49      0.51      1000\n",
      "        ship       0.56      0.65      0.60      1000\n",
      "       truck       0.55      0.50      0.52      1000\n",
      "\n",
      "    accuracy                           0.47     10000\n",
      "   macro avg       0.47      0.47      0.46     10000\n",
      "weighted avg       0.47      0.47      0.46     10000\n",
      "\n"
     ]
    },
    {
     "name": "stderr",
     "output_type": "stream",
     "text": [
      "Train #18: 100%|██████████| 1563/1563 [00:44<00:00, 34.81it/s]\n"
     ]
    },
    {
     "name": "stdout",
     "output_type": "stream",
     "text": [
      "Epoch #18 | Train Avg Loss: 1.5016 \n"
     ]
    },
    {
     "name": "stderr",
     "output_type": "stream",
     "text": [
      "Test #18: 100%|██████████| 313/313 [00:08<00:00, 37.00it/s]\n"
     ]
    },
    {
     "name": "stdout",
     "output_type": "stream",
     "text": [
      "Epoch #18 | Test Avg Loss: 1.4621 \n",
      "              precision    recall  f1-score   support\n",
      "\n",
      "       plane       0.59      0.51      0.55      1000\n",
      "         car       0.54      0.65      0.59      1000\n",
      "        bird       0.34      0.33      0.33      1000\n",
      "         cat       0.34      0.18      0.23      1000\n",
      "        deer       0.40      0.38      0.39      1000\n",
      "         dog       0.40      0.42      0.41      1000\n",
      "        frog       0.44      0.64      0.52      1000\n",
      "       horse       0.54      0.49      0.52      1000\n",
      "        ship       0.59      0.65      0.62      1000\n",
      "       truck       0.54      0.52      0.53      1000\n",
      "\n",
      "    accuracy                           0.48     10000\n",
      "   macro avg       0.47      0.48      0.47     10000\n",
      "weighted avg       0.47      0.48      0.47     10000\n",
      "\n"
     ]
    },
    {
     "name": "stderr",
     "output_type": "stream",
     "text": [
      "Train #19: 100%|██████████| 1563/1563 [00:43<00:00, 35.99it/s]\n"
     ]
    },
    {
     "name": "stdout",
     "output_type": "stream",
     "text": [
      "Epoch #19 | Train Avg Loss: 1.5052 \n"
     ]
    },
    {
     "name": "stderr",
     "output_type": "stream",
     "text": [
      "Test #19: 100%|██████████| 313/313 [00:08<00:00, 38.98it/s]\n"
     ]
    },
    {
     "name": "stdout",
     "output_type": "stream",
     "text": [
      "Epoch #19 | Test Avg Loss: 1.4685 \n",
      "              precision    recall  f1-score   support\n",
      "\n",
      "       plane       0.58      0.50      0.54      1000\n",
      "         car       0.58      0.60      0.59      1000\n",
      "        bird       0.34      0.29      0.31      1000\n",
      "         cat       0.32      0.30      0.31      1000\n",
      "        deer       0.38      0.42      0.40      1000\n",
      "         dog       0.45      0.31      0.37      1000\n",
      "        frog       0.44      0.58      0.50      1000\n",
      "       horse       0.50      0.54      0.52      1000\n",
      "        ship       0.58      0.64      0.61      1000\n",
      "       truck       0.56      0.52      0.54      1000\n",
      "\n",
      "    accuracy                           0.47     10000\n",
      "   macro avg       0.47      0.47      0.47     10000\n",
      "weighted avg       0.47      0.47      0.47     10000\n",
      "\n"
     ]
    },
    {
     "name": "stderr",
     "output_type": "stream",
     "text": [
      "Train #20: 100%|██████████| 1563/1563 [00:43<00:00, 35.55it/s]\n"
     ]
    },
    {
     "name": "stdout",
     "output_type": "stream",
     "text": [
      "Epoch #20 | Train Avg Loss: 1.5019 \n"
     ]
    },
    {
     "name": "stderr",
     "output_type": "stream",
     "text": [
      "Test #20: 100%|██████████| 313/313 [00:08<00:00, 38.80it/s]\n"
     ]
    },
    {
     "name": "stdout",
     "output_type": "stream",
     "text": [
      "Epoch #20 | Test Avg Loss: 1.4621 \n",
      "              precision    recall  f1-score   support\n",
      "\n",
      "       plane       0.59      0.53      0.56      1000\n",
      "         car       0.57      0.61      0.59      1000\n",
      "        bird       0.36      0.28      0.32      1000\n",
      "         cat       0.33      0.23      0.27      1000\n",
      "        deer       0.38      0.45      0.42      1000\n",
      "         dog       0.42      0.36      0.38      1000\n",
      "        frog       0.44      0.63      0.52      1000\n",
      "       horse       0.54      0.51      0.52      1000\n",
      "        ship       0.57      0.67      0.61      1000\n",
      "       truck       0.54      0.50      0.52      1000\n",
      "\n",
      "    accuracy                           0.48     10000\n",
      "   macro avg       0.47      0.48      0.47     10000\n",
      "weighted avg       0.47      0.48      0.47     10000\n",
      "\n"
     ]
    },
    {
     "name": "stderr",
     "output_type": "stream",
     "text": [
      "Train #21: 100%|██████████| 1563/1563 [00:44<00:00, 35.50it/s]\n"
     ]
    },
    {
     "name": "stdout",
     "output_type": "stream",
     "text": [
      "Epoch #21 | Train Avg Loss: 1.4985 \n"
     ]
    },
    {
     "name": "stderr",
     "output_type": "stream",
     "text": [
      "Test #21: 100%|██████████| 313/313 [00:08<00:00, 36.23it/s]\n"
     ]
    },
    {
     "name": "stdout",
     "output_type": "stream",
     "text": [
      "Epoch #21 | Test Avg Loss: 1.4654 \n",
      "              precision    recall  f1-score   support\n",
      "\n",
      "       plane       0.54      0.60      0.57      1000\n",
      "         car       0.58      0.60      0.59      1000\n",
      "        bird       0.33      0.32      0.32      1000\n",
      "         cat       0.34      0.25      0.29      1000\n",
      "        deer       0.38      0.43      0.41      1000\n",
      "         dog       0.44      0.34      0.39      1000\n",
      "        frog       0.45      0.59      0.51      1000\n",
      "       horse       0.49      0.53      0.51      1000\n",
      "        ship       0.61      0.60      0.61      1000\n",
      "       truck       0.56      0.50      0.53      1000\n",
      "\n",
      "    accuracy                           0.48     10000\n",
      "   macro avg       0.47      0.48      0.47     10000\n",
      "weighted avg       0.47      0.48      0.47     10000\n",
      "\n"
     ]
    },
    {
     "name": "stderr",
     "output_type": "stream",
     "text": [
      "Train #22: 100%|██████████| 1563/1563 [00:45<00:00, 34.11it/s]\n"
     ]
    },
    {
     "name": "stdout",
     "output_type": "stream",
     "text": [
      "Epoch #22 | Train Avg Loss: 1.4997 \n"
     ]
    },
    {
     "name": "stderr",
     "output_type": "stream",
     "text": [
      "Test #22: 100%|██████████| 313/313 [00:09<00:00, 32.10it/s]\n"
     ]
    },
    {
     "name": "stdout",
     "output_type": "stream",
     "text": [
      "Epoch #22 | Test Avg Loss: 1.4595 \n",
      "              precision    recall  f1-score   support\n",
      "\n",
      "       plane       0.54      0.61      0.57      1000\n",
      "         car       0.54      0.65      0.59      1000\n",
      "        bird       0.39      0.22      0.28      1000\n",
      "         cat       0.32      0.30      0.31      1000\n",
      "        deer       0.37      0.47      0.41      1000\n",
      "         dog       0.45      0.31      0.37      1000\n",
      "        frog       0.45      0.60      0.52      1000\n",
      "       horse       0.52      0.52      0.52      1000\n",
      "        ship       0.61      0.60      0.61      1000\n",
      "       truck       0.55      0.49      0.52      1000\n",
      "\n",
      "    accuracy                           0.48     10000\n",
      "   macro avg       0.48      0.48      0.47     10000\n",
      "weighted avg       0.48      0.48      0.47     10000\n",
      "\n"
     ]
    },
    {
     "name": "stderr",
     "output_type": "stream",
     "text": [
      "Train #23: 100%|██████████| 1563/1563 [00:44<00:00, 35.05it/s]\n"
     ]
    },
    {
     "name": "stdout",
     "output_type": "stream",
     "text": [
      "Epoch #23 | Train Avg Loss: 1.4965 \n"
     ]
    },
    {
     "name": "stderr",
     "output_type": "stream",
     "text": [
      "Test #23: 100%|██████████| 313/313 [00:07<00:00, 43.98it/s]\n"
     ]
    },
    {
     "name": "stdout",
     "output_type": "stream",
     "text": [
      "Epoch #23 | Test Avg Loss: 1.4576 \n",
      "              precision    recall  f1-score   support\n",
      "\n",
      "       plane       0.56      0.57      0.57      1000\n",
      "         car       0.61      0.54      0.58      1000\n",
      "        bird       0.36      0.27      0.31      1000\n",
      "         cat       0.32      0.24      0.28      1000\n",
      "        deer       0.39      0.41      0.40      1000\n",
      "         dog       0.39      0.44      0.42      1000\n",
      "        frog       0.45      0.60      0.52      1000\n",
      "       horse       0.52      0.52      0.52      1000\n",
      "        ship       0.60      0.61      0.61      1000\n",
      "       truck       0.52      0.56      0.54      1000\n",
      "\n",
      "    accuracy                           0.48     10000\n",
      "   macro avg       0.47      0.48      0.47     10000\n",
      "weighted avg       0.47      0.48      0.47     10000\n",
      "\n"
     ]
    },
    {
     "name": "stderr",
     "output_type": "stream",
     "text": [
      "Train #24: 100%|██████████| 1563/1563 [00:49<00:00, 31.70it/s]\n"
     ]
    },
    {
     "name": "stdout",
     "output_type": "stream",
     "text": [
      "Epoch #24 | Train Avg Loss: 1.4994 \n"
     ]
    },
    {
     "name": "stderr",
     "output_type": "stream",
     "text": [
      "Test #24: 100%|██████████| 313/313 [00:07<00:00, 43.88it/s]\n"
     ]
    },
    {
     "name": "stdout",
     "output_type": "stream",
     "text": [
      "Epoch #24 | Test Avg Loss: 1.4617 \n",
      "              precision    recall  f1-score   support\n",
      "\n",
      "       plane       0.53      0.58      0.56      1000\n",
      "         car       0.56      0.60      0.58      1000\n",
      "        bird       0.35      0.30      0.33      1000\n",
      "         cat       0.34      0.25      0.29      1000\n",
      "        deer       0.39      0.42      0.40      1000\n",
      "         dog       0.45      0.33      0.38      1000\n",
      "        frog       0.44      0.65      0.53      1000\n",
      "       horse       0.56      0.47      0.51      1000\n",
      "        ship       0.59      0.63      0.61      1000\n",
      "       truck       0.54      0.55      0.54      1000\n",
      "\n",
      "    accuracy                           0.48     10000\n",
      "   macro avg       0.47      0.48      0.47     10000\n",
      "weighted avg       0.47      0.48      0.47     10000\n",
      "\n"
     ]
    },
    {
     "name": "stderr",
     "output_type": "stream",
     "text": [
      "Train #25: 100%|██████████| 1563/1563 [00:45<00:00, 34.55it/s]\n"
     ]
    },
    {
     "name": "stdout",
     "output_type": "stream",
     "text": [
      "Epoch #25 | Train Avg Loss: 1.4926 \n"
     ]
    },
    {
     "name": "stderr",
     "output_type": "stream",
     "text": [
      "Test #25: 100%|██████████| 313/313 [00:08<00:00, 37.07it/s]\n"
     ]
    },
    {
     "name": "stdout",
     "output_type": "stream",
     "text": [
      "Epoch #25 | Test Avg Loss: 1.4593 \n",
      "              precision    recall  f1-score   support\n",
      "\n",
      "       plane       0.56      0.56      0.56      1000\n",
      "         car       0.57      0.61      0.59      1000\n",
      "        bird       0.35      0.28      0.31      1000\n",
      "         cat       0.35      0.22      0.27      1000\n",
      "        deer       0.39      0.40      0.40      1000\n",
      "         dog       0.45      0.36      0.40      1000\n",
      "        frog       0.41      0.69      0.51      1000\n",
      "       horse       0.52      0.54      0.53      1000\n",
      "        ship       0.55      0.63      0.59      1000\n",
      "       truck       0.56      0.48      0.51      1000\n",
      "\n",
      "    accuracy                           0.48     10000\n",
      "   macro avg       0.47      0.48      0.47     10000\n",
      "weighted avg       0.47      0.48      0.47     10000\n",
      "\n"
     ]
    }
   ],
   "source": [
    "train_loss, test_loss = train(\n",
    "    model,\n",
    "    optim,\n",
    "    loss_function,\n",
    "    epochs=25,\n",
    "    device=device,\n",
    "    trainloader=trainloader,\n",
    "    testloader=testloader,\n",
    "    labels=classes\n",
    ")"
   ]
  },
  {
   "cell_type": "code",
   "execution_count": 60,
   "metadata": {},
   "outputs": [
    {
     "data": {
      "image/png": "[encoded data removed]",
      "text/plain": [
       "<Figure size 640x480 with 1 Axes>"
      ]
     },
     "metadata": {},
     "output_type": "display_data"
    }
   ],
   "source": [
    "plt.plot(train_loss, label=\"Avg train loss\")\n",
    "plt.plot(test_loss, label=\"Avg test loss\")\n",
    "plt.legend()\n",
    "plt.xlabel(\"Epoch\")\n",
    "plt.show()\n"
   ]
  },
  {
   "cell_type": "code",
   "execution_count": 61,
   "metadata": {},
   "outputs": [
    {
     "name": "stdout",
     "output_type": "stream",
     "text": [
      "Files already downloaded and verified\n",
      "Files already downloaded and verified\n"
     ]
    },
    {
     "name": "stderr",
     "output_type": "stream",
     "text": [
      "Train #1: 100%|██████████| 3125/3125 [01:04<00:00, 48.47it/s]\n"
     ]
    },
    {
     "name": "stdout",
     "output_type": "stream",
     "text": [
      "Epoch #1 | Train Avg Loss: 1.5538 \n"
     ]
    },
    {
     "name": "stderr",
     "output_type": "stream",
     "text": [
      "Test #1: 100%|██████████| 313/313 [00:07<00:00, 42.29it/s]\n"
     ]
    },
    {
     "name": "stdout",
     "output_type": "stream",
     "text": [
      "Epoch #1 | Test Avg Loss: 1.4517 \n",
      "              precision    recall  f1-score   support\n",
      "\n",
      "       plane       0.58      0.54      0.56      1000\n",
      "         car       0.56      0.61      0.59      1000\n",
      "        bird       0.36      0.28      0.31      1000\n",
      "         cat       0.34      0.25      0.29      1000\n",
      "        deer       0.40      0.39      0.39      1000\n",
      "         dog       0.43      0.37      0.40      1000\n",
      "        frog       0.42      0.66      0.52      1000\n",
      "       horse       0.53      0.53      0.53      1000\n",
      "        ship       0.60      0.61      0.60      1000\n",
      "       truck       0.53      0.55      0.54      1000\n",
      "\n",
      "    accuracy                           0.48     10000\n",
      "   macro avg       0.47      0.48      0.47     10000\n",
      "weighted avg       0.47      0.48      0.47     10000\n",
      "\n"
     ]
    },
    {
     "name": "stderr",
     "output_type": "stream",
     "text": [
      "Train #2: 100%|██████████| 3125/3125 [00:58<00:00, 53.73it/s] \n"
     ]
    },
    {
     "name": "stdout",
     "output_type": "stream",
     "text": [
      "Epoch #2 | Train Avg Loss: 1.5501 \n"
     ]
    },
    {
     "name": "stderr",
     "output_type": "stream",
     "text": [
      "Test #2: 100%|██████████| 313/313 [00:06<00:00, 45.54it/s]\n"
     ]
    },
    {
     "name": "stdout",
     "output_type": "stream",
     "text": [
      "Epoch #2 | Test Avg Loss: 1.4553 \n",
      "              precision    recall  f1-score   support\n",
      "\n",
      "       plane       0.59      0.52      0.55      1000\n",
      "         car       0.62      0.56      0.59      1000\n",
      "        bird       0.36      0.25      0.29      1000\n",
      "         cat       0.32      0.30      0.31      1000\n",
      "        deer       0.38      0.47      0.42      1000\n",
      "         dog       0.44      0.34      0.39      1000\n",
      "        frog       0.46      0.61      0.52      1000\n",
      "       horse       0.50      0.55      0.52      1000\n",
      "        ship       0.59      0.64      0.61      1000\n",
      "       truck       0.53      0.58      0.56      1000\n",
      "\n",
      "    accuracy                           0.48     10000\n",
      "   macro avg       0.48      0.48      0.48     10000\n",
      "weighted avg       0.48      0.48      0.48     10000\n",
      "\n"
     ]
    },
    {
     "name": "stderr",
     "output_type": "stream",
     "text": [
      "Train #3: 100%|██████████| 3125/3125 [00:57<00:00, 53.94it/s] \n"
     ]
    },
    {
     "name": "stdout",
     "output_type": "stream",
     "text": [
      "Epoch #3 | Train Avg Loss: 1.5467 \n"
     ]
    },
    {
     "name": "stderr",
     "output_type": "stream",
     "text": [
      "Test #3: 100%|██████████| 313/313 [00:07<00:00, 42.28it/s]\n"
     ]
    },
    {
     "name": "stdout",
     "output_type": "stream",
     "text": [
      "Epoch #3 | Test Avg Loss: 1.4562 \n",
      "              precision    recall  f1-score   support\n",
      "\n",
      "       plane       0.59      0.53      0.56      1000\n",
      "         car       0.61      0.58      0.59      1000\n",
      "        bird       0.36      0.26      0.30      1000\n",
      "         cat       0.32      0.29      0.30      1000\n",
      "        deer       0.39      0.44      0.42      1000\n",
      "         dog       0.43      0.39      0.41      1000\n",
      "        frog       0.45      0.62      0.52      1000\n",
      "       horse       0.52      0.55      0.53      1000\n",
      "        ship       0.59      0.64      0.61      1000\n",
      "       truck       0.56      0.53      0.54      1000\n",
      "\n",
      "    accuracy                           0.48     10000\n",
      "   macro avg       0.48      0.48      0.48     10000\n",
      "weighted avg       0.48      0.48      0.48     10000\n",
      "\n"
     ]
    },
    {
     "name": "stderr",
     "output_type": "stream",
     "text": [
      "Train #4: 100%|██████████| 3125/3125 [01:03<00:00, 49.29it/s]\n"
     ]
    },
    {
     "name": "stdout",
     "output_type": "stream",
     "text": [
      "Epoch #4 | Train Avg Loss: 1.5475 \n"
     ]
    },
    {
     "name": "stderr",
     "output_type": "stream",
     "text": [
      "Test #4: 100%|██████████| 313/313 [00:09<00:00, 34.61it/s]\n"
     ]
    },
    {
     "name": "stdout",
     "output_type": "stream",
     "text": [
      "Epoch #4 | Test Avg Loss: 1.4532 \n",
      "              precision    recall  f1-score   support\n",
      "\n",
      "       plane       0.57      0.54      0.55      1000\n",
      "         car       0.56      0.62      0.59      1000\n",
      "        bird       0.37      0.24      0.29      1000\n",
      "         cat       0.33      0.24      0.28      1000\n",
      "        deer       0.37      0.43      0.40      1000\n",
      "         dog       0.45      0.36      0.40      1000\n",
      "        frog       0.44      0.63      0.52      1000\n",
      "       horse       0.52      0.53      0.52      1000\n",
      "        ship       0.57      0.65      0.61      1000\n",
      "       truck       0.52      0.54      0.53      1000\n",
      "\n",
      "    accuracy                           0.48     10000\n",
      "   macro avg       0.47      0.48      0.47     10000\n",
      "weighted avg       0.47      0.48      0.47     10000\n",
      "\n"
     ]
    },
    {
     "name": "stderr",
     "output_type": "stream",
     "text": [
      "Train #5: 100%|██████████| 3125/3125 [01:26<00:00, 36.01it/s] \n"
     ]
    },
    {
     "name": "stdout",
     "output_type": "stream",
     "text": [
      "Epoch #5 | Train Avg Loss: 1.5476 \n"
     ]
    },
    {
     "name": "stderr",
     "output_type": "stream",
     "text": [
      "Test #5: 100%|██████████| 313/313 [00:08<00:00, 34.89it/s]\n"
     ]
    },
    {
     "name": "stdout",
     "output_type": "stream",
     "text": [
      "Epoch #5 | Test Avg Loss: 1.4511 \n",
      "              precision    recall  f1-score   support\n",
      "\n",
      "       plane       0.58      0.57      0.57      1000\n",
      "         car       0.59      0.58      0.58      1000\n",
      "        bird       0.35      0.30      0.32      1000\n",
      "         cat       0.36      0.24      0.28      1000\n",
      "        deer       0.39      0.43      0.41      1000\n",
      "         dog       0.44      0.37      0.40      1000\n",
      "        frog       0.45      0.64      0.53      1000\n",
      "       horse       0.52      0.52      0.52      1000\n",
      "        ship       0.58      0.67      0.62      1000\n",
      "       truck       0.53      0.54      0.54      1000\n",
      "\n",
      "    accuracy                           0.48     10000\n",
      "   macro avg       0.48      0.48      0.48     10000\n",
      "weighted avg       0.48      0.48      0.48     10000\n",
      "\n"
     ]
    },
    {
     "name": "stderr",
     "output_type": "stream",
     "text": [
      "Train #6: 100%|██████████| 3125/3125 [01:32<00:00, 33.62it/s]\n"
     ]
    },
    {
     "name": "stdout",
     "output_type": "stream",
     "text": [
      "Epoch #6 | Train Avg Loss: 1.5451 \n"
     ]
    },
    {
     "name": "stderr",
     "output_type": "stream",
     "text": [
      "Test #6: 100%|██████████| 313/313 [00:10<00:00, 29.80it/s]\n"
     ]
    },
    {
     "name": "stdout",
     "output_type": "stream",
     "text": [
      "Epoch #6 | Test Avg Loss: 1.4555 \n",
      "              precision    recall  f1-score   support\n",
      "\n",
      "       plane       0.57      0.55      0.56      1000\n",
      "         car       0.61      0.58      0.59      1000\n",
      "        bird       0.36      0.27      0.31      1000\n",
      "         cat       0.33      0.24      0.28      1000\n",
      "        deer       0.39      0.43      0.41      1000\n",
      "         dog       0.42      0.41      0.42      1000\n",
      "        frog       0.44      0.67      0.53      1000\n",
      "       horse       0.52      0.53      0.52      1000\n",
      "        ship       0.60      0.65      0.62      1000\n",
      "       truck       0.56      0.51      0.53      1000\n",
      "\n",
      "    accuracy                           0.48     10000\n",
      "   macro avg       0.48      0.48      0.48     10000\n",
      "weighted avg       0.48      0.48      0.48     10000\n",
      "\n"
     ]
    },
    {
     "name": "stderr",
     "output_type": "stream",
     "text": [
      "Train #7: 100%|██████████| 3125/3125 [01:25<00:00, 36.64it/s]\n"
     ]
    },
    {
     "name": "stdout",
     "output_type": "stream",
     "text": [
      "Epoch #7 | Train Avg Loss: 1.5472 \n"
     ]
    },
    {
     "name": "stderr",
     "output_type": "stream",
     "text": [
      "Test #7: 100%|██████████| 313/313 [00:08<00:00, 36.77it/s]\n"
     ]
    },
    {
     "name": "stdout",
     "output_type": "stream",
     "text": [
      "Epoch #7 | Test Avg Loss: 1.4558 \n",
      "              precision    recall  f1-score   support\n",
      "\n",
      "       plane       0.57      0.55      0.56      1000\n",
      "         car       0.61      0.57      0.59      1000\n",
      "        bird       0.35      0.30      0.32      1000\n",
      "         cat       0.34      0.24      0.28      1000\n",
      "        deer       0.38      0.45      0.41      1000\n",
      "         dog       0.44      0.37      0.40      1000\n",
      "        frog       0.43      0.62      0.51      1000\n",
      "       horse       0.55      0.50      0.52      1000\n",
      "        ship       0.55      0.65      0.60      1000\n",
      "       truck       0.55      0.52      0.53      1000\n",
      "\n",
      "    accuracy                           0.48     10000\n",
      "   macro avg       0.48      0.48      0.47     10000\n",
      "weighted avg       0.48      0.48      0.47     10000\n",
      "\n"
     ]
    },
    {
     "name": "stderr",
     "output_type": "stream",
     "text": [
      "Train #8: 100%|██████████| 3125/3125 [01:12<00:00, 43.15it/s]\n"
     ]
    },
    {
     "name": "stdout",
     "output_type": "stream",
     "text": [
      "Epoch #8 | Train Avg Loss: 1.5423 \n"
     ]
    },
    {
     "name": "stderr",
     "output_type": "stream",
     "text": [
      "Test #8: 100%|██████████| 313/313 [00:06<00:00, 48.18it/s]\n"
     ]
    },
    {
     "name": "stdout",
     "output_type": "stream",
     "text": [
      "Epoch #8 | Test Avg Loss: 1.4565 \n",
      "              precision    recall  f1-score   support\n",
      "\n",
      "       plane       0.57      0.54      0.56      1000\n",
      "         car       0.57      0.62      0.59      1000\n",
      "        bird       0.34      0.28      0.30      1000\n",
      "         cat       0.35      0.25      0.29      1000\n",
      "        deer       0.35      0.48      0.40      1000\n",
      "         dog       0.49      0.34      0.40      1000\n",
      "        frog       0.44      0.63      0.52      1000\n",
      "       horse       0.54      0.51      0.53      1000\n",
      "        ship       0.56      0.66      0.61      1000\n",
      "       truck       0.57      0.49      0.52      1000\n",
      "\n",
      "    accuracy                           0.48     10000\n",
      "   macro avg       0.48      0.48      0.47     10000\n",
      "weighted avg       0.48      0.48      0.47     10000\n",
      "\n"
     ]
    },
    {
     "name": "stderr",
     "output_type": "stream",
     "text": [
      "Train #9: 100%|██████████| 3125/3125 [01:02<00:00, 49.74it/s]\n"
     ]
    },
    {
     "name": "stdout",
     "output_type": "stream",
     "text": [
      "Epoch #9 | Train Avg Loss: 1.5418 \n"
     ]
    },
    {
     "name": "stderr",
     "output_type": "stream",
     "text": [
      "Test #9: 100%|██████████| 313/313 [00:07<00:00, 40.70it/s]\n"
     ]
    },
    {
     "name": "stdout",
     "output_type": "stream",
     "text": [
      "Epoch #9 | Test Avg Loss: 1.4549 \n",
      "              precision    recall  f1-score   support\n",
      "\n",
      "       plane       0.58      0.53      0.56      1000\n",
      "         car       0.58      0.58      0.58      1000\n",
      "        bird       0.37      0.24      0.30      1000\n",
      "         cat       0.32      0.23      0.27      1000\n",
      "        deer       0.38      0.43      0.41      1000\n",
      "         dog       0.43      0.38      0.40      1000\n",
      "        frog       0.43      0.66      0.52      1000\n",
      "       horse       0.52      0.54      0.53      1000\n",
      "        ship       0.61      0.64      0.62      1000\n",
      "       truck       0.52      0.55      0.54      1000\n",
      "\n",
      "    accuracy                           0.48     10000\n",
      "   macro avg       0.47      0.48      0.47     10000\n",
      "weighted avg       0.47      0.48      0.47     10000\n",
      "\n"
     ]
    },
    {
     "name": "stderr",
     "output_type": "stream",
     "text": [
      "Train #10: 100%|██████████| 3125/3125 [00:59<00:00, 52.55it/s] \n"
     ]
    },
    {
     "name": "stdout",
     "output_type": "stream",
     "text": [
      "Epoch #10 | Train Avg Loss: 1.5445 \n"
     ]
    },
    {
     "name": "stderr",
     "output_type": "stream",
     "text": [
      "Test #10: 100%|██████████| 313/313 [00:08<00:00, 36.79it/s]\n"
     ]
    },
    {
     "name": "stdout",
     "output_type": "stream",
     "text": [
      "Epoch #10 | Test Avg Loss: 1.4663 \n",
      "              precision    recall  f1-score   support\n",
      "\n",
      "       plane       0.58      0.53      0.56      1000\n",
      "         car       0.60      0.59      0.59      1000\n",
      "        bird       0.34      0.31      0.32      1000\n",
      "         cat       0.32      0.27      0.29      1000\n",
      "        deer       0.39      0.40      0.39      1000\n",
      "         dog       0.42      0.39      0.41      1000\n",
      "        frog       0.41      0.67      0.51      1000\n",
      "       horse       0.57      0.47      0.52      1000\n",
      "        ship       0.58      0.65      0.61      1000\n",
      "       truck       0.58      0.47      0.52      1000\n",
      "\n",
      "    accuracy                           0.48     10000\n",
      "   macro avg       0.48      0.48      0.47     10000\n",
      "weighted avg       0.48      0.48      0.47     10000\n",
      "\n"
     ]
    },
    {
     "name": "stderr",
     "output_type": "stream",
     "text": [
      "Train #11:  10%|▉         | 306/3125 [00:08<01:19, 35.31it/s]\n"
     ]
    },
    {
     "ename": "KeyboardInterrupt",
     "evalue": "",
     "output_type": "error",
     "traceback": [
      "\u001b[0;31m---------------------------------------------------------------------------\u001b[0m",
      "\u001b[0;31mKeyboardInterrupt\u001b[0m                         Traceback (most recent call last)",
      "Cell \u001b[0;32mIn[61], line 10\u001b[0m\n\u001b[1;32m      2\u001b[0m trainloader, testloader \u001b[39m=\u001b[39m create_loaders(\n\u001b[1;32m      3\u001b[0m     trainset,\n\u001b[1;32m      4\u001b[0m     testset,\n\u001b[1;32m      5\u001b[0m     train_batch\u001b[39m=\u001b[39m\u001b[39m16\u001b[39m,\n\u001b[1;32m      6\u001b[0m     test_batch\u001b[39m=\u001b[39m\u001b[39m32\u001b[39m,\n\u001b[1;32m      7\u001b[0m )\n\u001b[1;32m      9\u001b[0m optim \u001b[39m=\u001b[39m Adam(model\u001b[39m.\u001b[39mparameters(), lr\u001b[39m=\u001b[39m\u001b[39m1e-4\u001b[39m)\n\u001b[0;32m---> 10\u001b[0m train_loss, test_loss \u001b[39m=\u001b[39m train(\n\u001b[1;32m     11\u001b[0m     model,\n\u001b[1;32m     12\u001b[0m     optim,\n\u001b[1;32m     13\u001b[0m     loss_function,\n\u001b[1;32m     14\u001b[0m     epochs\u001b[39m=\u001b[39;49m\u001b[39m25\u001b[39;49m,\n\u001b[1;32m     15\u001b[0m     device\u001b[39m=\u001b[39;49mdevice,\n\u001b[1;32m     16\u001b[0m     trainloader\u001b[39m=\u001b[39;49mtrainloader,\n\u001b[1;32m     17\u001b[0m     testloader\u001b[39m=\u001b[39;49mtestloader,\n\u001b[1;32m     18\u001b[0m     labels\u001b[39m=\u001b[39;49mclasses\n\u001b[1;32m     19\u001b[0m )\n",
      "Cell \u001b[0;32mIn[57], line 21\u001b[0m, in \u001b[0;36mtrain\u001b[0;34m(model, optim, loss_func, epochs, trainloader, testloader, labels, device)\u001b[0m\n\u001b[1;32m     18\u001b[0m total_batches \u001b[39m=\u001b[39m \u001b[39m0\u001b[39m\n\u001b[1;32m     20\u001b[0m model\u001b[39m.\u001b[39mtrain()\n\u001b[0;32m---> 21\u001b[0m \u001b[39mfor\u001b[39;00m imgs, target \u001b[39min\u001b[39;00m tqdm(trainloader, desc\u001b[39m=\u001b[39m\u001b[39mf\u001b[39m\u001b[39m\"\u001b[39m\u001b[39mTrain #\u001b[39m\u001b[39m{\u001b[39;00mep\u001b[39m}\u001b[39;00m\u001b[39m\"\u001b[39m):\n\u001b[1;32m     22\u001b[0m     total_batches \u001b[39m+\u001b[39m\u001b[39m=\u001b[39m \u001b[39m1\u001b[39m\n\u001b[1;32m     23\u001b[0m     imgs\u001b[39m.\u001b[39mto(device)\n",
      "File \u001b[0;32m~/interview_assignments/MIL_autoencoder/.env/lib/python3.9/site-packages/tqdm/std.py:1195\u001b[0m, in \u001b[0;36mtqdm.__iter__\u001b[0;34m(self)\u001b[0m\n\u001b[1;32m   1192\u001b[0m time \u001b[39m=\u001b[39m \u001b[39mself\u001b[39m\u001b[39m.\u001b[39m_time\n\u001b[1;32m   1194\u001b[0m \u001b[39mtry\u001b[39;00m:\n\u001b[0;32m-> 1195\u001b[0m     \u001b[39mfor\u001b[39;00m obj \u001b[39min\u001b[39;00m iterable:\n\u001b[1;32m   1196\u001b[0m         \u001b[39myield\u001b[39;00m obj\n\u001b[1;32m   1197\u001b[0m         \u001b[39m# Update and possibly print the progressbar.\u001b[39;00m\n\u001b[1;32m   1198\u001b[0m         \u001b[39m# Note: does not call self.update(1) for speed optimisation.\u001b[39;00m\n",
      "File \u001b[0;32m~/interview_assignments/MIL_autoencoder/.env/lib/python3.9/site-packages/torch/utils/data/dataloader.py:628\u001b[0m, in \u001b[0;36m_BaseDataLoaderIter.__next__\u001b[0;34m(self)\u001b[0m\n\u001b[1;32m    625\u001b[0m \u001b[39mif\u001b[39;00m \u001b[39mself\u001b[39m\u001b[39m.\u001b[39m_sampler_iter \u001b[39mis\u001b[39;00m \u001b[39mNone\u001b[39;00m:\n\u001b[1;32m    626\u001b[0m     \u001b[39m# TODO(https://github.com/pytorch/pytorch/issues/76750)\u001b[39;00m\n\u001b[1;32m    627\u001b[0m     \u001b[39mself\u001b[39m\u001b[39m.\u001b[39m_reset()  \u001b[39m# type: ignore[call-arg]\u001b[39;00m\n\u001b[0;32m--> 628\u001b[0m data \u001b[39m=\u001b[39m \u001b[39mself\u001b[39;49m\u001b[39m.\u001b[39;49m_next_data()\n\u001b[1;32m    629\u001b[0m \u001b[39mself\u001b[39m\u001b[39m.\u001b[39m_num_yielded \u001b[39m+\u001b[39m\u001b[39m=\u001b[39m \u001b[39m1\u001b[39m\n\u001b[1;32m    630\u001b[0m \u001b[39mif\u001b[39;00m \u001b[39mself\u001b[39m\u001b[39m.\u001b[39m_dataset_kind \u001b[39m==\u001b[39m _DatasetKind\u001b[39m.\u001b[39mIterable \u001b[39mand\u001b[39;00m \\\n\u001b[1;32m    631\u001b[0m         \u001b[39mself\u001b[39m\u001b[39m.\u001b[39m_IterableDataset_len_called \u001b[39mis\u001b[39;00m \u001b[39mnot\u001b[39;00m \u001b[39mNone\u001b[39;00m \u001b[39mand\u001b[39;00m \\\n\u001b[1;32m    632\u001b[0m         \u001b[39mself\u001b[39m\u001b[39m.\u001b[39m_num_yielded \u001b[39m>\u001b[39m \u001b[39mself\u001b[39m\u001b[39m.\u001b[39m_IterableDataset_len_called:\n",
      "File \u001b[0;32m~/interview_assignments/MIL_autoencoder/.env/lib/python3.9/site-packages/torch/utils/data/dataloader.py:671\u001b[0m, in \u001b[0;36m_SingleProcessDataLoaderIter._next_data\u001b[0;34m(self)\u001b[0m\n\u001b[1;32m    669\u001b[0m \u001b[39mdef\u001b[39;00m \u001b[39m_next_data\u001b[39m(\u001b[39mself\u001b[39m):\n\u001b[1;32m    670\u001b[0m     index \u001b[39m=\u001b[39m \u001b[39mself\u001b[39m\u001b[39m.\u001b[39m_next_index()  \u001b[39m# may raise StopIteration\u001b[39;00m\n\u001b[0;32m--> 671\u001b[0m     data \u001b[39m=\u001b[39m \u001b[39mself\u001b[39;49m\u001b[39m.\u001b[39;49m_dataset_fetcher\u001b[39m.\u001b[39;49mfetch(index)  \u001b[39m# may raise StopIteration\u001b[39;00m\n\u001b[1;32m    672\u001b[0m     \u001b[39mif\u001b[39;00m \u001b[39mself\u001b[39m\u001b[39m.\u001b[39m_pin_memory:\n\u001b[1;32m    673\u001b[0m         data \u001b[39m=\u001b[39m _utils\u001b[39m.\u001b[39mpin_memory\u001b[39m.\u001b[39mpin_memory(data, \u001b[39mself\u001b[39m\u001b[39m.\u001b[39m_pin_memory_device)\n",
      "File \u001b[0;32m~/interview_assignments/MIL_autoencoder/.env/lib/python3.9/site-packages/torch/utils/data/_utils/fetch.py:58\u001b[0m, in \u001b[0;36m_MapDatasetFetcher.fetch\u001b[0;34m(self, possibly_batched_index)\u001b[0m\n\u001b[1;32m     56\u001b[0m         data \u001b[39m=\u001b[39m \u001b[39mself\u001b[39m\u001b[39m.\u001b[39mdataset\u001b[39m.\u001b[39m__getitems__(possibly_batched_index)\n\u001b[1;32m     57\u001b[0m     \u001b[39melse\u001b[39;00m:\n\u001b[0;32m---> 58\u001b[0m         data \u001b[39m=\u001b[39m [\u001b[39mself\u001b[39m\u001b[39m.\u001b[39mdataset[idx] \u001b[39mfor\u001b[39;00m idx \u001b[39min\u001b[39;00m possibly_batched_index]\n\u001b[1;32m     59\u001b[0m \u001b[39melse\u001b[39;00m:\n\u001b[1;32m     60\u001b[0m     data \u001b[39m=\u001b[39m \u001b[39mself\u001b[39m\u001b[39m.\u001b[39mdataset[possibly_batched_index]\n",
      "File \u001b[0;32m~/interview_assignments/MIL_autoencoder/.env/lib/python3.9/site-packages/torch/utils/data/_utils/fetch.py:58\u001b[0m, in \u001b[0;36m<listcomp>\u001b[0;34m(.0)\u001b[0m\n\u001b[1;32m     56\u001b[0m         data \u001b[39m=\u001b[39m \u001b[39mself\u001b[39m\u001b[39m.\u001b[39mdataset\u001b[39m.\u001b[39m__getitems__(possibly_batched_index)\n\u001b[1;32m     57\u001b[0m     \u001b[39melse\u001b[39;00m:\n\u001b[0;32m---> 58\u001b[0m         data \u001b[39m=\u001b[39m [\u001b[39mself\u001b[39;49m\u001b[39m.\u001b[39;49mdataset[idx] \u001b[39mfor\u001b[39;00m idx \u001b[39min\u001b[39;00m possibly_batched_index]\n\u001b[1;32m     59\u001b[0m \u001b[39melse\u001b[39;00m:\n\u001b[1;32m     60\u001b[0m     data \u001b[39m=\u001b[39m \u001b[39mself\u001b[39m\u001b[39m.\u001b[39mdataset[possibly_batched_index]\n",
      "File \u001b[0;32m~/interview_assignments/MIL_autoencoder/.env/lib/python3.9/site-packages/torchvision/datasets/cifar.py:118\u001b[0m, in \u001b[0;36mCIFAR10.__getitem__\u001b[0;34m(self, index)\u001b[0m\n\u001b[1;32m    115\u001b[0m img \u001b[39m=\u001b[39m Image\u001b[39m.\u001b[39mfromarray(img)\n\u001b[1;32m    117\u001b[0m \u001b[39mif\u001b[39;00m \u001b[39mself\u001b[39m\u001b[39m.\u001b[39mtransform \u001b[39mis\u001b[39;00m \u001b[39mnot\u001b[39;00m \u001b[39mNone\u001b[39;00m:\n\u001b[0;32m--> 118\u001b[0m     img \u001b[39m=\u001b[39m \u001b[39mself\u001b[39;49m\u001b[39m.\u001b[39;49mtransform(img)\n\u001b[1;32m    120\u001b[0m \u001b[39mif\u001b[39;00m \u001b[39mself\u001b[39m\u001b[39m.\u001b[39mtarget_transform \u001b[39mis\u001b[39;00m \u001b[39mnot\u001b[39;00m \u001b[39mNone\u001b[39;00m:\n\u001b[1;32m    121\u001b[0m     target \u001b[39m=\u001b[39m \u001b[39mself\u001b[39m\u001b[39m.\u001b[39mtarget_transform(target)\n",
      "File \u001b[0;32m~/interview_assignments/MIL_autoencoder/.env/lib/python3.9/site-packages/torchvision/transforms/transforms.py:95\u001b[0m, in \u001b[0;36mCompose.__call__\u001b[0;34m(self, img)\u001b[0m\n\u001b[1;32m     93\u001b[0m \u001b[39mdef\u001b[39;00m \u001b[39m__call__\u001b[39m(\u001b[39mself\u001b[39m, img):\n\u001b[1;32m     94\u001b[0m     \u001b[39mfor\u001b[39;00m t \u001b[39min\u001b[39;00m \u001b[39mself\u001b[39m\u001b[39m.\u001b[39mtransforms:\n\u001b[0;32m---> 95\u001b[0m         img \u001b[39m=\u001b[39m t(img)\n\u001b[1;32m     96\u001b[0m     \u001b[39mreturn\u001b[39;00m img\n",
      "File \u001b[0;32m~/interview_assignments/MIL_autoencoder/.env/lib/python3.9/site-packages/torchvision/transforms/transforms.py:135\u001b[0m, in \u001b[0;36mToTensor.__call__\u001b[0;34m(self, pic)\u001b[0m\n\u001b[1;32m    127\u001b[0m \u001b[39mdef\u001b[39;00m \u001b[39m__call__\u001b[39m(\u001b[39mself\u001b[39m, pic):\n\u001b[1;32m    128\u001b[0m \u001b[39m    \u001b[39m\u001b[39m\"\"\"\u001b[39;00m\n\u001b[1;32m    129\u001b[0m \u001b[39m    Args:\u001b[39;00m\n\u001b[1;32m    130\u001b[0m \u001b[39m        pic (PIL Image or numpy.ndarray): Image to be converted to tensor.\u001b[39;00m\n\u001b[0;32m   (...)\u001b[0m\n\u001b[1;32m    133\u001b[0m \u001b[39m        Tensor: Converted image.\u001b[39;00m\n\u001b[1;32m    134\u001b[0m \u001b[39m    \"\"\"\u001b[39;00m\n\u001b[0;32m--> 135\u001b[0m     \u001b[39mreturn\u001b[39;00m F\u001b[39m.\u001b[39;49mto_tensor(pic)\n",
      "File \u001b[0;32m~/interview_assignments/MIL_autoencoder/.env/lib/python3.9/site-packages/torchvision/transforms/functional.py:167\u001b[0m, in \u001b[0;36mto_tensor\u001b[0;34m(pic)\u001b[0m\n\u001b[1;32m    165\u001b[0m \u001b[39mif\u001b[39;00m pic\u001b[39m.\u001b[39mmode \u001b[39m==\u001b[39m \u001b[39m\"\u001b[39m\u001b[39m1\u001b[39m\u001b[39m\"\u001b[39m:\n\u001b[1;32m    166\u001b[0m     img \u001b[39m=\u001b[39m \u001b[39m255\u001b[39m \u001b[39m*\u001b[39m img\n\u001b[0;32m--> 167\u001b[0m img \u001b[39m=\u001b[39m img\u001b[39m.\u001b[39;49mview(pic\u001b[39m.\u001b[39;49msize[\u001b[39m1\u001b[39;49m], pic\u001b[39m.\u001b[39;49msize[\u001b[39m0\u001b[39;49m], \u001b[39mlen\u001b[39;49m(pic\u001b[39m.\u001b[39;49mgetbands()))\n\u001b[1;32m    168\u001b[0m \u001b[39m# put it from HWC to CHW format\u001b[39;00m\n\u001b[1;32m    169\u001b[0m img \u001b[39m=\u001b[39m img\u001b[39m.\u001b[39mpermute((\u001b[39m2\u001b[39m, \u001b[39m0\u001b[39m, \u001b[39m1\u001b[39m))\u001b[39m.\u001b[39mcontiguous()\n",
      "\u001b[0;31mKeyboardInterrupt\u001b[0m: "
     ]
    }
   ],
   "source": [
    "trainset, testset, classes = load_data(DATA, simple_transform(), simple_transform())\n",
    "trainloader, testloader = create_loaders(\n",
    "    trainset,\n",
    "    testset,\n",
    "    train_batch=16,\n",
    "    test_batch=32,\n",
    ")\n",
    "\n",
    "optim = Adam(model.parameters(), lr=1e-4)\n",
    "train_loss, test_loss = train(\n",
    "    model,\n",
    "    optim,\n",
    "    loss_function,\n",
    "    epochs=25,\n",
    "    device=device,\n",
    "    trainloader=trainloader,\n",
    "    testloader=testloader,\n",
    "    labels=classes\n",
    ")"
   ]
  },
  {
   "cell_type": "code",
   "execution_count": null,
   "metadata": {},
   "outputs": [],
   "source": [
    "plt.plot(train_loss, label=\"Avg train loss\")\n",
    "plt.plot(test_loss, label=\"Avg test loss\")\n",
    "plt.legend()\n",
    "plt.xlabel(\"Epoch\")\n",
    "plt.show()"
   ]
  },
  {
   "attachments": {},
   "cell_type": "markdown",
   "metadata": {},
   "source": [
    "## Big model 100"
   ]
  },
  {
   "cell_type": "code",
   "execution_count": 62,
   "metadata": {},
   "outputs": [
    {
     "name": "stdout",
     "output_type": "stream",
     "text": [
      "Files already downloaded and verified\n",
      "Files already downloaded and verified\n"
     ]
    }
   ],
   "source": [
    "trainset, testset, classes = load_data(DATA, simple_transform(), simple_transform())\n",
    "trainloader, testloader = create_loaders(\n",
    "    trainset,\n",
    "    testset,\n",
    "    train_batch=32,\n",
    "    test_batch=32,\n",
    ")"
   ]
  },
  {
   "cell_type": "code",
   "execution_count": 64,
   "metadata": {},
   "outputs": [],
   "source": [
    "vae_path = TRAINED_MODELS / \"vae_state_dict_aug100\"\n",
    "vae_params = {\n",
    "    \"img_size\": 32,\n",
    "    \"downsamplings\": 3,\n",
    "    \"latent_size\": 128,\n",
    "    \"linear_hidden_size\": 256,\n",
    "    \"down_channels\": 4,\n",
    "    \"up_channels\": 8,\n",
    "}\n",
    "\n",
    "vae = VAE(**vae_params)\n",
    "vae.load_state_dict(torch.load(vae_path, map_location=torch.device('cpu')))\n",
    "\n",
    "model = ClassificationHead(encoder=vae.encoder, latent_size=vae_params[\"latent_size\"], start_dim=64)\n",
    "optim = Adam(model.parameters())\n",
    "loss_function = nn.CrossEntropyLoss()"
   ]
  },
  {
   "cell_type": "code",
   "execution_count": 65,
   "metadata": {},
   "outputs": [
    {
     "name": "stderr",
     "output_type": "stream",
     "text": [
      "Train #1: 100%|██████████| 1563/1563 [00:57<00:00, 27.08it/s]\n"
     ]
    },
    {
     "name": "stdout",
     "output_type": "stream",
     "text": [
      "Epoch #1 | Train Avg Loss: 1.8758 \n"
     ]
    },
    {
     "name": "stderr",
     "output_type": "stream",
     "text": [
      "Test #1: 100%|██████████| 313/313 [00:09<00:00, 31.51it/s]\n"
     ]
    },
    {
     "name": "stdout",
     "output_type": "stream",
     "text": [
      "Epoch #1 | Test Avg Loss: 1.6572 \n",
      "              precision    recall  f1-score   support\n",
      "\n",
      "       plane       0.48      0.49      0.49      1000\n",
      "         car       0.51      0.57      0.54      1000\n",
      "        bird       0.31      0.10      0.15      1000\n",
      "         cat       0.28      0.21      0.24      1000\n",
      "        deer       0.31      0.38      0.34      1000\n",
      "         dog       0.40      0.37      0.39      1000\n",
      "        frog       0.34      0.51      0.41      1000\n",
      "       horse       0.40      0.44      0.42      1000\n",
      "        ship       0.53      0.54      0.53      1000\n",
      "       truck       0.48      0.47      0.48      1000\n",
      "\n",
      "    accuracy                           0.41     10000\n",
      "   macro avg       0.40      0.41      0.40     10000\n",
      "weighted avg       0.40      0.41      0.40     10000\n",
      "\n"
     ]
    },
    {
     "name": "stderr",
     "output_type": "stream",
     "text": [
      "Train #2: 100%|██████████| 1563/1563 [01:07<00:00, 22.99it/s]\n"
     ]
    },
    {
     "name": "stdout",
     "output_type": "stream",
     "text": [
      "Epoch #2 | Train Avg Loss: 1.6619 \n"
     ]
    },
    {
     "name": "stderr",
     "output_type": "stream",
     "text": [
      "Test #2: 100%|██████████| 313/313 [00:11<00:00, 27.58it/s]\n"
     ]
    },
    {
     "name": "stdout",
     "output_type": "stream",
     "text": [
      "Epoch #2 | Test Avg Loss: 1.5665 \n",
      "              precision    recall  f1-score   support\n",
      "\n",
      "       plane       0.49      0.53      0.51      1000\n",
      "         car       0.54      0.53      0.54      1000\n",
      "        bird       0.34      0.31      0.32      1000\n",
      "         cat       0.29      0.15      0.20      1000\n",
      "        deer       0.37      0.37      0.37      1000\n",
      "         dog       0.39      0.36      0.38      1000\n",
      "        frog       0.39      0.58      0.47      1000\n",
      "       horse       0.46      0.49      0.47      1000\n",
      "        ship       0.53      0.57      0.55      1000\n",
      "       truck       0.51      0.49      0.50      1000\n",
      "\n",
      "    accuracy                           0.44     10000\n",
      "   macro avg       0.43      0.44      0.43     10000\n",
      "weighted avg       0.43      0.44      0.43     10000\n",
      "\n"
     ]
    },
    {
     "name": "stderr",
     "output_type": "stream",
     "text": [
      "Train #3: 100%|██████████| 1563/1563 [01:07<00:00, 23.22it/s]\n"
     ]
    },
    {
     "name": "stdout",
     "output_type": "stream",
     "text": [
      "Epoch #3 | Train Avg Loss: 1.5894 \n"
     ]
    },
    {
     "name": "stderr",
     "output_type": "stream",
     "text": [
      "Test #3: 100%|██████████| 313/313 [00:11<00:00, 26.35it/s]\n"
     ]
    },
    {
     "name": "stdout",
     "output_type": "stream",
     "text": [
      "Epoch #3 | Test Avg Loss: 1.5163 \n",
      "              precision    recall  f1-score   support\n",
      "\n",
      "       plane       0.54      0.55      0.54      1000\n",
      "         car       0.60      0.51      0.55      1000\n",
      "        bird       0.34      0.25      0.29      1000\n",
      "         cat       0.31      0.27      0.29      1000\n",
      "        deer       0.39      0.35      0.37      1000\n",
      "         dog       0.44      0.32      0.37      1000\n",
      "        frog       0.39      0.62      0.48      1000\n",
      "       horse       0.46      0.55      0.50      1000\n",
      "        ship       0.57      0.61      0.59      1000\n",
      "       truck       0.52      0.55      0.54      1000\n",
      "\n",
      "    accuracy                           0.46     10000\n",
      "   macro avg       0.46      0.46      0.45     10000\n",
      "weighted avg       0.46      0.46      0.45     10000\n",
      "\n"
     ]
    },
    {
     "name": "stderr",
     "output_type": "stream",
     "text": [
      "Train #4: 100%|██████████| 1563/1563 [01:06<00:00, 23.50it/s]\n"
     ]
    },
    {
     "name": "stdout",
     "output_type": "stream",
     "text": [
      "Epoch #4 | Train Avg Loss: 1.5499 \n"
     ]
    },
    {
     "name": "stderr",
     "output_type": "stream",
     "text": [
      "Test #4: 100%|██████████| 313/313 [00:12<00:00, 25.86it/s]\n"
     ]
    },
    {
     "name": "stdout",
     "output_type": "stream",
     "text": [
      "Epoch #4 | Test Avg Loss: 1.4834 \n",
      "              precision    recall  f1-score   support\n",
      "\n",
      "       plane       0.52      0.53      0.53      1000\n",
      "         car       0.58      0.56      0.57      1000\n",
      "        bird       0.36      0.26      0.30      1000\n",
      "         cat       0.31      0.30      0.30      1000\n",
      "        deer       0.38      0.39      0.39      1000\n",
      "         dog       0.41      0.35      0.38      1000\n",
      "        frog       0.46      0.56      0.50      1000\n",
      "       horse       0.51      0.50      0.51      1000\n",
      "        ship       0.55      0.66      0.60      1000\n",
      "       truck       0.51      0.55      0.53      1000\n",
      "\n",
      "    accuracy                           0.47     10000\n",
      "   macro avg       0.46      0.47      0.46     10000\n",
      "weighted avg       0.46      0.47      0.46     10000\n",
      "\n"
     ]
    },
    {
     "name": "stderr",
     "output_type": "stream",
     "text": [
      "Train #5: 100%|██████████| 1563/1563 [01:07<00:00, 23.11it/s]\n"
     ]
    },
    {
     "name": "stdout",
     "output_type": "stream",
     "text": [
      "Epoch #5 | Train Avg Loss: 1.5189 \n"
     ]
    },
    {
     "name": "stderr",
     "output_type": "stream",
     "text": [
      "Test #5: 100%|██████████| 313/313 [00:12<00:00, 24.35it/s]\n"
     ]
    },
    {
     "name": "stdout",
     "output_type": "stream",
     "text": [
      "Epoch #5 | Test Avg Loss: 1.4678 \n",
      "              precision    recall  f1-score   support\n",
      "\n",
      "       plane       0.58      0.49      0.53      1000\n",
      "         car       0.60      0.56      0.58      1000\n",
      "        bird       0.37      0.21      0.27      1000\n",
      "         cat       0.31      0.25      0.28      1000\n",
      "        deer       0.38      0.47      0.42      1000\n",
      "         dog       0.43      0.34      0.38      1000\n",
      "        frog       0.40      0.63      0.49      1000\n",
      "       horse       0.53      0.51      0.52      1000\n",
      "        ship       0.59      0.64      0.62      1000\n",
      "       truck       0.50      0.59      0.54      1000\n",
      "\n",
      "    accuracy                           0.47     10000\n",
      "   macro avg       0.47      0.47      0.46     10000\n",
      "weighted avg       0.47      0.47      0.46     10000\n",
      "\n"
     ]
    },
    {
     "name": "stderr",
     "output_type": "stream",
     "text": [
      "Train #6: 100%|██████████| 1563/1563 [01:07<00:00, 23.06it/s]\n"
     ]
    },
    {
     "name": "stdout",
     "output_type": "stream",
     "text": [
      "Epoch #6 | Train Avg Loss: 1.4973 \n"
     ]
    },
    {
     "name": "stderr",
     "output_type": "stream",
     "text": [
      "Test #6: 100%|██████████| 313/313 [00:11<00:00, 27.15it/s]\n"
     ]
    },
    {
     "name": "stdout",
     "output_type": "stream",
     "text": [
      "Epoch #6 | Test Avg Loss: 1.4551 \n",
      "              precision    recall  f1-score   support\n",
      "\n",
      "       plane       0.53      0.59      0.56      1000\n",
      "         car       0.58      0.60      0.59      1000\n",
      "        bird       0.36      0.26      0.30      1000\n",
      "         cat       0.33      0.33      0.33      1000\n",
      "        deer       0.38      0.44      0.41      1000\n",
      "         dog       0.46      0.31      0.37      1000\n",
      "        frog       0.46      0.53      0.49      1000\n",
      "       horse       0.54      0.52      0.53      1000\n",
      "        ship       0.53      0.64      0.58      1000\n",
      "       truck       0.53      0.50      0.51      1000\n",
      "\n",
      "    accuracy                           0.47     10000\n",
      "   macro avg       0.47      0.47      0.47     10000\n",
      "weighted avg       0.47      0.47      0.47     10000\n",
      "\n"
     ]
    },
    {
     "name": "stderr",
     "output_type": "stream",
     "text": [
      "Train #7: 100%|██████████| 1563/1563 [01:05<00:00, 23.93it/s]\n"
     ]
    },
    {
     "name": "stdout",
     "output_type": "stream",
     "text": [
      "Epoch #7 | Train Avg Loss: 1.4857 \n"
     ]
    },
    {
     "name": "stderr",
     "output_type": "stream",
     "text": [
      "Test #7: 100%|██████████| 313/313 [00:11<00:00, 26.23it/s]\n"
     ]
    },
    {
     "name": "stdout",
     "output_type": "stream",
     "text": [
      "Epoch #7 | Test Avg Loss: 1.4383 \n",
      "              precision    recall  f1-score   support\n",
      "\n",
      "       plane       0.55      0.54      0.54      1000\n",
      "         car       0.59      0.56      0.57      1000\n",
      "        bird       0.36      0.34      0.35      1000\n",
      "         cat       0.35      0.20      0.25      1000\n",
      "        deer       0.41      0.39      0.40      1000\n",
      "         dog       0.40      0.41      0.41      1000\n",
      "        frog       0.48      0.54      0.51      1000\n",
      "       horse       0.52      0.60      0.56      1000\n",
      "        ship       0.55      0.67      0.60      1000\n",
      "       truck       0.52      0.55      0.54      1000\n",
      "\n",
      "    accuracy                           0.48     10000\n",
      "   macro avg       0.47      0.48      0.47     10000\n",
      "weighted avg       0.47      0.48      0.47     10000\n",
      "\n"
     ]
    },
    {
     "name": "stderr",
     "output_type": "stream",
     "text": [
      "Train #8: 100%|██████████| 1563/1563 [01:10<00:00, 22.25it/s]\n"
     ]
    },
    {
     "name": "stdout",
     "output_type": "stream",
     "text": [
      "Epoch #8 | Train Avg Loss: 1.4719 \n"
     ]
    },
    {
     "name": "stderr",
     "output_type": "stream",
     "text": [
      "Test #8: 100%|██████████| 313/313 [00:11<00:00, 26.49it/s]\n"
     ]
    },
    {
     "name": "stdout",
     "output_type": "stream",
     "text": [
      "Epoch #8 | Test Avg Loss: 1.4373 \n",
      "              precision    recall  f1-score   support\n",
      "\n",
      "       plane       0.56      0.55      0.56      1000\n",
      "         car       0.61      0.59      0.60      1000\n",
      "        bird       0.37      0.30      0.33      1000\n",
      "         cat       0.33      0.32      0.32      1000\n",
      "        deer       0.38      0.45      0.41      1000\n",
      "         dog       0.45      0.34      0.39      1000\n",
      "        frog       0.45      0.54      0.49      1000\n",
      "       horse       0.55      0.56      0.56      1000\n",
      "        ship       0.57      0.69      0.62      1000\n",
      "       truck       0.54      0.50      0.52      1000\n",
      "\n",
      "    accuracy                           0.48     10000\n",
      "   macro avg       0.48      0.48      0.48     10000\n",
      "weighted avg       0.48      0.48      0.48     10000\n",
      "\n"
     ]
    },
    {
     "name": "stderr",
     "output_type": "stream",
     "text": [
      "Train #9: 100%|██████████| 1563/1563 [01:06<00:00, 23.65it/s]\n"
     ]
    },
    {
     "name": "stdout",
     "output_type": "stream",
     "text": [
      "Epoch #9 | Train Avg Loss: 1.4624 \n"
     ]
    },
    {
     "name": "stderr",
     "output_type": "stream",
     "text": [
      "Test #9: 100%|██████████| 313/313 [00:11<00:00, 26.91it/s]\n"
     ]
    },
    {
     "name": "stdout",
     "output_type": "stream",
     "text": [
      "Epoch #9 | Test Avg Loss: 1.4276 \n",
      "              precision    recall  f1-score   support\n",
      "\n",
      "       plane       0.55      0.54      0.54      1000\n",
      "         car       0.58      0.64      0.61      1000\n",
      "        bird       0.38      0.28      0.33      1000\n",
      "         cat       0.33      0.27      0.30      1000\n",
      "        deer       0.39      0.43      0.41      1000\n",
      "         dog       0.43      0.36      0.39      1000\n",
      "        frog       0.45      0.59      0.51      1000\n",
      "       horse       0.49      0.61      0.54      1000\n",
      "        ship       0.60      0.62      0.61      1000\n",
      "       truck       0.59      0.49      0.54      1000\n",
      "\n",
      "    accuracy                           0.48     10000\n",
      "   macro avg       0.48      0.48      0.48     10000\n",
      "weighted avg       0.48      0.48      0.48     10000\n",
      "\n"
     ]
    },
    {
     "name": "stderr",
     "output_type": "stream",
     "text": [
      "Train #10: 100%|██████████| 1563/1563 [01:04<00:00, 24.06it/s]\n"
     ]
    },
    {
     "name": "stdout",
     "output_type": "stream",
     "text": [
      "Epoch #10 | Train Avg Loss: 1.4509 \n"
     ]
    },
    {
     "name": "stderr",
     "output_type": "stream",
     "text": [
      "Test #10: 100%|██████████| 313/313 [00:11<00:00, 27.74it/s]\n"
     ]
    },
    {
     "name": "stdout",
     "output_type": "stream",
     "text": [
      "Epoch #10 | Test Avg Loss: 1.4249 \n",
      "              precision    recall  f1-score   support\n",
      "\n",
      "       plane       0.55      0.56      0.56      1000\n",
      "         car       0.57      0.66      0.61      1000\n",
      "        bird       0.38      0.29      0.33      1000\n",
      "         cat       0.32      0.34      0.33      1000\n",
      "        deer       0.40      0.39      0.39      1000\n",
      "         dog       0.43      0.34      0.38      1000\n",
      "        frog       0.49      0.58      0.53      1000\n",
      "       horse       0.53      0.58      0.55      1000\n",
      "        ship       0.63      0.61      0.62      1000\n",
      "       truck       0.53      0.53      0.53      1000\n",
      "\n",
      "    accuracy                           0.49     10000\n",
      "   macro avg       0.48      0.49      0.48     10000\n",
      "weighted avg       0.48      0.49      0.48     10000\n",
      "\n"
     ]
    },
    {
     "name": "stderr",
     "output_type": "stream",
     "text": [
      "Train #11: 100%|██████████| 1563/1563 [01:04<00:00, 24.39it/s]\n"
     ]
    },
    {
     "name": "stdout",
     "output_type": "stream",
     "text": [
      "Epoch #11 | Train Avg Loss: 1.4435 \n"
     ]
    },
    {
     "name": "stderr",
     "output_type": "stream",
     "text": [
      "Test #11: 100%|██████████| 313/313 [00:11<00:00, 26.87it/s]\n"
     ]
    },
    {
     "name": "stdout",
     "output_type": "stream",
     "text": [
      "Epoch #11 | Test Avg Loss: 1.4206 \n",
      "              precision    recall  f1-score   support\n",
      "\n",
      "       plane       0.55      0.56      0.55      1000\n",
      "         car       0.60      0.63      0.62      1000\n",
      "        bird       0.40      0.33      0.36      1000\n",
      "         cat       0.33      0.32      0.32      1000\n",
      "        deer       0.42      0.38      0.40      1000\n",
      "         dog       0.42      0.37      0.39      1000\n",
      "        frog       0.45      0.60      0.52      1000\n",
      "       horse       0.56      0.56      0.56      1000\n",
      "        ship       0.58      0.66      0.62      1000\n",
      "       truck       0.56      0.51      0.54      1000\n",
      "\n",
      "    accuracy                           0.49     10000\n",
      "   macro avg       0.49      0.49      0.49     10000\n",
      "weighted avg       0.49      0.49      0.49     10000\n",
      "\n"
     ]
    },
    {
     "name": "stderr",
     "output_type": "stream",
     "text": [
      "Train #12: 100%|██████████| 1563/1563 [01:04<00:00, 24.29it/s]\n"
     ]
    },
    {
     "name": "stdout",
     "output_type": "stream",
     "text": [
      "Epoch #12 | Train Avg Loss: 1.4405 \n"
     ]
    },
    {
     "name": "stderr",
     "output_type": "stream",
     "text": [
      "Test #12: 100%|██████████| 313/313 [00:11<00:00, 27.32it/s]\n"
     ]
    },
    {
     "name": "stdout",
     "output_type": "stream",
     "text": [
      "Epoch #12 | Test Avg Loss: 1.4104 \n",
      "              precision    recall  f1-score   support\n",
      "\n",
      "       plane       0.55      0.57      0.56      1000\n",
      "         car       0.61      0.62      0.61      1000\n",
      "        bird       0.37      0.32      0.34      1000\n",
      "         cat       0.32      0.27      0.29      1000\n",
      "        deer       0.42      0.39      0.40      1000\n",
      "         dog       0.41      0.40      0.40      1000\n",
      "        frog       0.48      0.61      0.54      1000\n",
      "       horse       0.54      0.56      0.55      1000\n",
      "        ship       0.60      0.65      0.62      1000\n",
      "       truck       0.56      0.54      0.55      1000\n",
      "\n",
      "    accuracy                           0.49     10000\n",
      "   macro avg       0.49      0.49      0.49     10000\n",
      "weighted avg       0.49      0.49      0.49     10000\n",
      "\n"
     ]
    },
    {
     "name": "stderr",
     "output_type": "stream",
     "text": [
      "Train #13: 100%|██████████| 1563/1563 [01:03<00:00, 24.52it/s]\n"
     ]
    },
    {
     "name": "stdout",
     "output_type": "stream",
     "text": [
      "Epoch #13 | Train Avg Loss: 1.4320 \n"
     ]
    },
    {
     "name": "stderr",
     "output_type": "stream",
     "text": [
      "Test #13: 100%|██████████| 313/313 [00:10<00:00, 28.90it/s]\n"
     ]
    },
    {
     "name": "stdout",
     "output_type": "stream",
     "text": [
      "Epoch #13 | Test Avg Loss: 1.4115 \n",
      "              precision    recall  f1-score   support\n",
      "\n",
      "       plane       0.54      0.59      0.56      1000\n",
      "         car       0.57      0.65      0.61      1000\n",
      "        bird       0.36      0.37      0.36      1000\n",
      "         cat       0.34      0.24      0.28      1000\n",
      "        deer       0.40      0.36      0.38      1000\n",
      "         dog       0.44      0.33      0.38      1000\n",
      "        frog       0.50      0.56      0.53      1000\n",
      "       horse       0.50      0.60      0.54      1000\n",
      "        ship       0.59      0.64      0.62      1000\n",
      "       truck       0.55      0.55      0.55      1000\n",
      "\n",
      "    accuracy                           0.49     10000\n",
      "   macro avg       0.48      0.49      0.48     10000\n",
      "weighted avg       0.48      0.49      0.48     10000\n",
      "\n"
     ]
    },
    {
     "name": "stderr",
     "output_type": "stream",
     "text": [
      "Train #14: 100%|██████████| 1563/1563 [01:09<00:00, 22.36it/s]\n"
     ]
    },
    {
     "name": "stdout",
     "output_type": "stream",
     "text": [
      "Epoch #14 | Train Avg Loss: 1.4258 \n"
     ]
    },
    {
     "name": "stderr",
     "output_type": "stream",
     "text": [
      "Test #14: 100%|██████████| 313/313 [00:10<00:00, 28.62it/s]\n"
     ]
    },
    {
     "name": "stdout",
     "output_type": "stream",
     "text": [
      "Epoch #14 | Test Avg Loss: 1.4012 \n",
      "              precision    recall  f1-score   support\n",
      "\n",
      "       plane       0.56      0.54      0.55      1000\n",
      "         car       0.60      0.61      0.61      1000\n",
      "        bird       0.39      0.36      0.37      1000\n",
      "         cat       0.36      0.21      0.27      1000\n",
      "        deer       0.41      0.40      0.40      1000\n",
      "         dog       0.40      0.42      0.41      1000\n",
      "        frog       0.47      0.61      0.53      1000\n",
      "       horse       0.56      0.57      0.56      1000\n",
      "        ship       0.59      0.64      0.62      1000\n",
      "       truck       0.54      0.58      0.56      1000\n",
      "\n",
      "    accuracy                           0.49     10000\n",
      "   macro avg       0.49      0.49      0.49     10000\n",
      "weighted avg       0.49      0.49      0.49     10000\n",
      "\n"
     ]
    },
    {
     "name": "stderr",
     "output_type": "stream",
     "text": [
      "Train #15: 100%|██████████| 1563/1563 [01:02<00:00, 25.04it/s]\n"
     ]
    },
    {
     "name": "stdout",
     "output_type": "stream",
     "text": [
      "Epoch #15 | Train Avg Loss: 1.4193 \n"
     ]
    },
    {
     "name": "stderr",
     "output_type": "stream",
     "text": [
      "Test #15: 100%|██████████| 313/313 [00:10<00:00, 29.58it/s]\n"
     ]
    },
    {
     "name": "stdout",
     "output_type": "stream",
     "text": [
      "Epoch #15 | Test Avg Loss: 1.3989 \n",
      "              precision    recall  f1-score   support\n",
      "\n",
      "       plane       0.60      0.56      0.58      1000\n",
      "         car       0.62      0.59      0.61      1000\n",
      "        bird       0.38      0.37      0.37      1000\n",
      "         cat       0.33      0.28      0.30      1000\n",
      "        deer       0.42      0.41      0.41      1000\n",
      "         dog       0.40      0.43      0.42      1000\n",
      "        frog       0.51      0.54      0.52      1000\n",
      "       horse       0.57      0.55      0.55      1000\n",
      "        ship       0.55      0.69      0.61      1000\n",
      "       truck       0.57      0.53      0.55      1000\n",
      "\n",
      "    accuracy                           0.49     10000\n",
      "   macro avg       0.49      0.49      0.49     10000\n",
      "weighted avg       0.49      0.49      0.49     10000\n",
      "\n"
     ]
    },
    {
     "name": "stderr",
     "output_type": "stream",
     "text": [
      "Train #16: 100%|██████████| 1563/1563 [01:08<00:00, 22.87it/s]\n"
     ]
    },
    {
     "name": "stdout",
     "output_type": "stream",
     "text": [
      "Epoch #16 | Train Avg Loss: 1.4181 \n"
     ]
    },
    {
     "name": "stderr",
     "output_type": "stream",
     "text": [
      "Test #16: 100%|██████████| 313/313 [00:16<00:00, 19.53it/s]\n"
     ]
    },
    {
     "name": "stdout",
     "output_type": "stream",
     "text": [
      "Epoch #16 | Test Avg Loss: 1.4035 \n",
      "              precision    recall  f1-score   support\n",
      "\n",
      "       plane       0.58      0.55      0.57      1000\n",
      "         car       0.60      0.61      0.61      1000\n",
      "        bird       0.39      0.29      0.33      1000\n",
      "         cat       0.32      0.34      0.33      1000\n",
      "        deer       0.42      0.43      0.42      1000\n",
      "         dog       0.45      0.32      0.37      1000\n",
      "        frog       0.46      0.63      0.53      1000\n",
      "       horse       0.58      0.54      0.56      1000\n",
      "        ship       0.61      0.64      0.63      1000\n",
      "       truck       0.51      0.59      0.55      1000\n",
      "\n",
      "    accuracy                           0.49     10000\n",
      "   macro avg       0.49      0.49      0.49     10000\n",
      "weighted avg       0.49      0.49      0.49     10000\n",
      "\n"
     ]
    },
    {
     "name": "stderr",
     "output_type": "stream",
     "text": [
      "Train #17: 100%|██████████| 1563/1563 [01:23<00:00, 18.67it/s]\n"
     ]
    },
    {
     "name": "stdout",
     "output_type": "stream",
     "text": [
      "Epoch #17 | Train Avg Loss: 1.4071 \n"
     ]
    },
    {
     "name": "stderr",
     "output_type": "stream",
     "text": [
      "Test #17: 100%|██████████| 313/313 [00:30<00:00, 10.24it/s]\n"
     ]
    },
    {
     "name": "stdout",
     "output_type": "stream",
     "text": [
      "Epoch #17 | Test Avg Loss: 1.4048 \n",
      "              precision    recall  f1-score   support\n",
      "\n",
      "       plane       0.54      0.55      0.54      1000\n",
      "         car       0.61      0.60      0.61      1000\n",
      "        bird       0.40      0.35      0.37      1000\n",
      "         cat       0.34      0.28      0.31      1000\n",
      "        deer       0.41      0.44      0.42      1000\n",
      "         dog       0.47      0.33      0.39      1000\n",
      "        frog       0.45      0.65      0.53      1000\n",
      "       horse       0.54      0.59      0.56      1000\n",
      "        ship       0.60      0.65      0.62      1000\n",
      "       truck       0.57      0.53      0.55      1000\n",
      "\n",
      "    accuracy                           0.50     10000\n",
      "   macro avg       0.49      0.50      0.49     10000\n",
      "weighted avg       0.49      0.50      0.49     10000\n",
      "\n"
     ]
    },
    {
     "name": "stderr",
     "output_type": "stream",
     "text": [
      "Train #18: 100%|██████████| 1563/1563 [01:12<00:00, 21.62it/s]\n"
     ]
    },
    {
     "name": "stdout",
     "output_type": "stream",
     "text": [
      "Epoch #18 | Train Avg Loss: 1.4068 \n"
     ]
    },
    {
     "name": "stderr",
     "output_type": "stream",
     "text": [
      "Test #18: 100%|██████████| 313/313 [00:11<00:00, 28.25it/s]\n"
     ]
    },
    {
     "name": "stdout",
     "output_type": "stream",
     "text": [
      "Epoch #18 | Test Avg Loss: 1.3976 \n",
      "              precision    recall  f1-score   support\n",
      "\n",
      "       plane       0.60      0.51      0.55      1000\n",
      "         car       0.58      0.61      0.60      1000\n",
      "        bird       0.42      0.31      0.36      1000\n",
      "         cat       0.34      0.35      0.34      1000\n",
      "        deer       0.42      0.45      0.43      1000\n",
      "         dog       0.49      0.27      0.35      1000\n",
      "        frog       0.48      0.61      0.54      1000\n",
      "       horse       0.54      0.57      0.56      1000\n",
      "        ship       0.57      0.69      0.63      1000\n",
      "       truck       0.51      0.60      0.55      1000\n",
      "\n",
      "    accuracy                           0.50     10000\n",
      "   macro avg       0.49      0.50      0.49     10000\n",
      "weighted avg       0.49      0.50      0.49     10000\n",
      "\n"
     ]
    },
    {
     "name": "stderr",
     "output_type": "stream",
     "text": [
      "Train #19: 100%|██████████| 1563/1563 [01:09<00:00, 22.42it/s]\n"
     ]
    },
    {
     "name": "stdout",
     "output_type": "stream",
     "text": [
      "Epoch #19 | Train Avg Loss: 1.4005 \n"
     ]
    },
    {
     "name": "stderr",
     "output_type": "stream",
     "text": [
      "Test #19: 100%|██████████| 313/313 [00:17<00:00, 18.34it/s]\n"
     ]
    },
    {
     "name": "stdout",
     "output_type": "stream",
     "text": [
      "Epoch #19 | Test Avg Loss: 1.3922 \n",
      "              precision    recall  f1-score   support\n",
      "\n",
      "       plane       0.57      0.58      0.58      1000\n",
      "         car       0.58      0.67      0.62      1000\n",
      "        bird       0.40      0.29      0.34      1000\n",
      "         cat       0.34      0.29      0.32      1000\n",
      "        deer       0.42      0.39      0.40      1000\n",
      "         dog       0.45      0.34      0.39      1000\n",
      "        frog       0.46      0.65      0.54      1000\n",
      "       horse       0.52      0.60      0.56      1000\n",
      "        ship       0.62      0.65      0.63      1000\n",
      "       truck       0.56      0.52      0.54      1000\n",
      "\n",
      "    accuracy                           0.50     10000\n",
      "   macro avg       0.49      0.50      0.49     10000\n",
      "weighted avg       0.49      0.50      0.49     10000\n",
      "\n"
     ]
    },
    {
     "name": "stderr",
     "output_type": "stream",
     "text": [
      "Train #20: 100%|██████████| 1563/1563 [01:35<00:00, 16.31it/s]\n"
     ]
    },
    {
     "name": "stdout",
     "output_type": "stream",
     "text": [
      "Epoch #20 | Train Avg Loss: 1.3974 \n"
     ]
    },
    {
     "name": "stderr",
     "output_type": "stream",
     "text": [
      "Test #20: 100%|██████████| 313/313 [00:14<00:00, 21.97it/s]\n"
     ]
    },
    {
     "name": "stdout",
     "output_type": "stream",
     "text": [
      "Epoch #20 | Test Avg Loss: 1.3994 \n",
      "              precision    recall  f1-score   support\n",
      "\n",
      "       plane       0.54      0.61      0.57      1000\n",
      "         car       0.57      0.65      0.60      1000\n",
      "        bird       0.39      0.36      0.38      1000\n",
      "         cat       0.36      0.30      0.33      1000\n",
      "        deer       0.42      0.38      0.40      1000\n",
      "         dog       0.47      0.29      0.36      1000\n",
      "        frog       0.48      0.63      0.55      1000\n",
      "       horse       0.55      0.56      0.55      1000\n",
      "        ship       0.58      0.66      0.62      1000\n",
      "       truck       0.54      0.54      0.54      1000\n",
      "\n",
      "    accuracy                           0.50     10000\n",
      "   macro avg       0.49      0.50      0.49     10000\n",
      "weighted avg       0.49      0.50      0.49     10000\n",
      "\n"
     ]
    },
    {
     "name": "stderr",
     "output_type": "stream",
     "text": [
      "Train #21: 100%|██████████| 1563/1563 [00:59<00:00, 26.34it/s]\n"
     ]
    },
    {
     "name": "stdout",
     "output_type": "stream",
     "text": [
      "Epoch #21 | Train Avg Loss: 1.3962 \n"
     ]
    },
    {
     "name": "stderr",
     "output_type": "stream",
     "text": [
      "Test #21: 100%|██████████| 313/313 [00:06<00:00, 49.01it/s]\n"
     ]
    },
    {
     "name": "stdout",
     "output_type": "stream",
     "text": [
      "Epoch #21 | Test Avg Loss: 1.3959 \n",
      "              precision    recall  f1-score   support\n",
      "\n",
      "       plane       0.53      0.61      0.57      1000\n",
      "         car       0.62      0.63      0.62      1000\n",
      "        bird       0.39      0.32      0.35      1000\n",
      "         cat       0.35      0.29      0.31      1000\n",
      "        deer       0.42      0.42      0.42      1000\n",
      "         dog       0.41      0.39      0.40      1000\n",
      "        frog       0.50      0.57      0.53      1000\n",
      "       horse       0.54      0.57      0.56      1000\n",
      "        ship       0.60      0.65      0.62      1000\n",
      "       truck       0.57      0.52      0.54      1000\n",
      "\n",
      "    accuracy                           0.50     10000\n",
      "   macro avg       0.49      0.50      0.49     10000\n",
      "weighted avg       0.49      0.50      0.49     10000\n",
      "\n"
     ]
    },
    {
     "name": "stderr",
     "output_type": "stream",
     "text": [
      "Train #22: 100%|██████████| 1563/1563 [00:39<00:00, 39.95it/s]\n"
     ]
    },
    {
     "name": "stdout",
     "output_type": "stream",
     "text": [
      "Epoch #22 | Train Avg Loss: 1.3969 \n"
     ]
    },
    {
     "name": "stderr",
     "output_type": "stream",
     "text": [
      "Test #22: 100%|██████████| 313/313 [00:06<00:00, 49.50it/s]\n"
     ]
    },
    {
     "name": "stdout",
     "output_type": "stream",
     "text": [
      "Epoch #22 | Test Avg Loss: 1.3861 \n",
      "              precision    recall  f1-score   support\n",
      "\n",
      "       plane       0.56      0.58      0.57      1000\n",
      "         car       0.61      0.62      0.61      1000\n",
      "        bird       0.43      0.32      0.36      1000\n",
      "         cat       0.34      0.34      0.34      1000\n",
      "        deer       0.43      0.40      0.41      1000\n",
      "         dog       0.42      0.36      0.39      1000\n",
      "        frog       0.49      0.62      0.55      1000\n",
      "       horse       0.56      0.57      0.56      1000\n",
      "        ship       0.58      0.65      0.61      1000\n",
      "       truck       0.52      0.57      0.54      1000\n",
      "\n",
      "    accuracy                           0.50     10000\n",
      "   macro avg       0.50      0.50      0.50     10000\n",
      "weighted avg       0.50      0.50      0.50     10000\n",
      "\n"
     ]
    },
    {
     "name": "stderr",
     "output_type": "stream",
     "text": [
      "Train #23: 100%|██████████| 1563/1563 [00:41<00:00, 37.86it/s]\n"
     ]
    },
    {
     "name": "stdout",
     "output_type": "stream",
     "text": [
      "Epoch #23 | Train Avg Loss: 1.3907 \n"
     ]
    },
    {
     "name": "stderr",
     "output_type": "stream",
     "text": [
      "Test #23: 100%|██████████| 313/313 [00:07<00:00, 44.37it/s]\n"
     ]
    },
    {
     "name": "stdout",
     "output_type": "stream",
     "text": [
      "Epoch #23 | Test Avg Loss: 1.3942 \n",
      "              precision    recall  f1-score   support\n",
      "\n",
      "       plane       0.57      0.58      0.57      1000\n",
      "         car       0.57      0.64      0.60      1000\n",
      "        bird       0.38      0.35      0.36      1000\n",
      "         cat       0.34      0.27      0.30      1000\n",
      "        deer       0.42      0.39      0.40      1000\n",
      "         dog       0.44      0.38      0.41      1000\n",
      "        frog       0.48      0.64      0.55      1000\n",
      "       horse       0.54      0.59      0.56      1000\n",
      "        ship       0.65      0.63      0.64      1000\n",
      "       truck       0.56      0.54      0.55      1000\n",
      "\n",
      "    accuracy                           0.50     10000\n",
      "   macro avg       0.49      0.50      0.49     10000\n",
      "weighted avg       0.49      0.50      0.49     10000\n",
      "\n"
     ]
    },
    {
     "name": "stderr",
     "output_type": "stream",
     "text": [
      "Train #24: 100%|██████████| 1563/1563 [00:41<00:00, 37.60it/s]\n"
     ]
    },
    {
     "name": "stdout",
     "output_type": "stream",
     "text": [
      "Epoch #24 | Train Avg Loss: 1.3948 \n"
     ]
    },
    {
     "name": "stderr",
     "output_type": "stream",
     "text": [
      "Test #24: 100%|██████████| 313/313 [00:06<00:00, 45.92it/s]\n"
     ]
    },
    {
     "name": "stdout",
     "output_type": "stream",
     "text": [
      "Epoch #24 | Test Avg Loss: 1.3795 \n",
      "              precision    recall  f1-score   support\n",
      "\n",
      "       plane       0.58      0.57      0.58      1000\n",
      "         car       0.59      0.64      0.61      1000\n",
      "        bird       0.41      0.32      0.36      1000\n",
      "         cat       0.35      0.28      0.31      1000\n",
      "        deer       0.44      0.39      0.41      1000\n",
      "         dog       0.42      0.43      0.42      1000\n",
      "        frog       0.48      0.61      0.54      1000\n",
      "       horse       0.54      0.58      0.56      1000\n",
      "        ship       0.63      0.66      0.64      1000\n",
      "       truck       0.55      0.58      0.56      1000\n",
      "\n",
      "    accuracy                           0.51     10000\n",
      "   macro avg       0.50      0.51      0.50     10000\n",
      "weighted avg       0.50      0.51      0.50     10000\n",
      "\n"
     ]
    },
    {
     "name": "stderr",
     "output_type": "stream",
     "text": [
      "Train #25: 100%|██████████| 1563/1563 [00:39<00:00, 39.77it/s]\n"
     ]
    },
    {
     "name": "stdout",
     "output_type": "stream",
     "text": [
      "Epoch #25 | Train Avg Loss: 1.3879 \n"
     ]
    },
    {
     "name": "stderr",
     "output_type": "stream",
     "text": [
      "Test #25: 100%|██████████| 313/313 [00:06<00:00, 51.20it/s]\n"
     ]
    },
    {
     "name": "stdout",
     "output_type": "stream",
     "text": [
      "Epoch #25 | Test Avg Loss: 1.3839 \n",
      "              precision    recall  f1-score   support\n",
      "\n",
      "       plane       0.58      0.58      0.58      1000\n",
      "         car       0.60      0.61      0.61      1000\n",
      "        bird       0.40      0.33      0.36      1000\n",
      "         cat       0.31      0.34      0.33      1000\n",
      "        deer       0.43      0.36      0.39      1000\n",
      "         dog       0.44      0.36      0.39      1000\n",
      "        frog       0.48      0.64      0.55      1000\n",
      "       horse       0.58      0.55      0.56      1000\n",
      "        ship       0.59      0.68      0.63      1000\n",
      "       truck       0.53      0.53      0.53      1000\n",
      "\n",
      "    accuracy                           0.50     10000\n",
      "   macro avg       0.49      0.50      0.49     10000\n",
      "weighted avg       0.49      0.50      0.49     10000\n",
      "\n"
     ]
    },
    {
     "name": "stderr",
     "output_type": "stream",
     "text": [
      "Train #26: 100%|██████████| 1563/1563 [00:38<00:00, 40.49it/s]\n"
     ]
    },
    {
     "name": "stdout",
     "output_type": "stream",
     "text": [
      "Epoch #26 | Train Avg Loss: 1.3861 \n"
     ]
    },
    {
     "name": "stderr",
     "output_type": "stream",
     "text": [
      "Test #26: 100%|██████████| 313/313 [00:06<00:00, 48.02it/s]\n"
     ]
    },
    {
     "name": "stdout",
     "output_type": "stream",
     "text": [
      "Epoch #26 | Test Avg Loss: 1.3863 \n",
      "              precision    recall  f1-score   support\n",
      "\n",
      "       plane       0.56      0.52      0.54      1000\n",
      "         car       0.61      0.63      0.62      1000\n",
      "        bird       0.36      0.39      0.37      1000\n",
      "         cat       0.34      0.31      0.33      1000\n",
      "        deer       0.42      0.40      0.41      1000\n",
      "         dog       0.44      0.37      0.40      1000\n",
      "        frog       0.52      0.57      0.54      1000\n",
      "       horse       0.57      0.57      0.57      1000\n",
      "        ship       0.55      0.71      0.62      1000\n",
      "       truck       0.58      0.50      0.54      1000\n",
      "\n",
      "    accuracy                           0.50     10000\n",
      "   macro avg       0.49      0.50      0.49     10000\n",
      "weighted avg       0.49      0.50      0.49     10000\n",
      "\n"
     ]
    },
    {
     "name": "stderr",
     "output_type": "stream",
     "text": [
      "Train #27: 100%|██████████| 1563/1563 [00:41<00:00, 38.12it/s]\n"
     ]
    },
    {
     "name": "stdout",
     "output_type": "stream",
     "text": [
      "Epoch #27 | Train Avg Loss: 1.3799 \n"
     ]
    },
    {
     "name": "stderr",
     "output_type": "stream",
     "text": [
      "Test #27: 100%|██████████| 313/313 [00:05<00:00, 54.92it/s]\n"
     ]
    },
    {
     "name": "stdout",
     "output_type": "stream",
     "text": [
      "Epoch #27 | Test Avg Loss: 1.3830 \n",
      "              precision    recall  f1-score   support\n",
      "\n",
      "       plane       0.57      0.57      0.57      1000\n",
      "         car       0.61      0.63      0.62      1000\n",
      "        bird       0.38      0.32      0.35      1000\n",
      "         cat       0.35      0.35      0.35      1000\n",
      "        deer       0.44      0.40      0.41      1000\n",
      "         dog       0.44      0.33      0.38      1000\n",
      "        frog       0.45      0.65      0.53      1000\n",
      "       horse       0.57      0.57      0.57      1000\n",
      "        ship       0.62      0.65      0.63      1000\n",
      "       truck       0.57      0.55      0.56      1000\n",
      "\n",
      "    accuracy                           0.50     10000\n",
      "   macro avg       0.50      0.50      0.50     10000\n",
      "weighted avg       0.50      0.50      0.50     10000\n",
      "\n"
     ]
    },
    {
     "name": "stderr",
     "output_type": "stream",
     "text": [
      "Train #28: 100%|██████████| 1563/1563 [00:41<00:00, 37.95it/s]\n"
     ]
    },
    {
     "name": "stdout",
     "output_type": "stream",
     "text": [
      "Epoch #28 | Train Avg Loss: 1.3801 \n"
     ]
    },
    {
     "name": "stderr",
     "output_type": "stream",
     "text": [
      "Test #28: 100%|██████████| 313/313 [00:06<00:00, 45.01it/s]\n"
     ]
    },
    {
     "name": "stdout",
     "output_type": "stream",
     "text": [
      "Epoch #28 | Test Avg Loss: 1.3828 \n",
      "              precision    recall  f1-score   support\n",
      "\n",
      "       plane       0.56      0.56      0.56      1000\n",
      "         car       0.59      0.64      0.61      1000\n",
      "        bird       0.40      0.35      0.37      1000\n",
      "         cat       0.34      0.30      0.32      1000\n",
      "        deer       0.45      0.36      0.40      1000\n",
      "         dog       0.43      0.39      0.41      1000\n",
      "        frog       0.50      0.61      0.55      1000\n",
      "       horse       0.57      0.57      0.57      1000\n",
      "        ship       0.57      0.71      0.63      1000\n",
      "       truck       0.56      0.52      0.54      1000\n",
      "\n",
      "    accuracy                           0.50     10000\n",
      "   macro avg       0.50      0.50      0.50     10000\n",
      "weighted avg       0.50      0.50      0.50     10000\n",
      "\n"
     ]
    },
    {
     "name": "stderr",
     "output_type": "stream",
     "text": [
      "Train #29: 100%|██████████| 1563/1563 [00:40<00:00, 38.38it/s]\n"
     ]
    },
    {
     "name": "stdout",
     "output_type": "stream",
     "text": [
      "Epoch #29 | Train Avg Loss: 1.3763 \n"
     ]
    },
    {
     "name": "stderr",
     "output_type": "stream",
     "text": [
      "Test #29: 100%|██████████| 313/313 [00:05<00:00, 56.99it/s]\n"
     ]
    },
    {
     "name": "stdout",
     "output_type": "stream",
     "text": [
      "Epoch #29 | Test Avg Loss: 1.3731 \n",
      "              precision    recall  f1-score   support\n",
      "\n",
      "       plane       0.58      0.58      0.58      1000\n",
      "         car       0.58      0.65      0.61      1000\n",
      "        bird       0.39      0.36      0.38      1000\n",
      "         cat       0.36      0.35      0.35      1000\n",
      "        deer       0.42      0.38      0.40      1000\n",
      "         dog       0.48      0.32      0.38      1000\n",
      "        frog       0.50      0.61      0.55      1000\n",
      "       horse       0.56      0.60      0.58      1000\n",
      "        ship       0.60      0.68      0.63      1000\n",
      "       truck       0.55      0.55      0.55      1000\n",
      "\n",
      "    accuracy                           0.51     10000\n",
      "   macro avg       0.50      0.51      0.50     10000\n",
      "weighted avg       0.50      0.51      0.50     10000\n",
      "\n"
     ]
    },
    {
     "name": "stderr",
     "output_type": "stream",
     "text": [
      "Train #30: 100%|██████████| 1563/1563 [00:40<00:00, 38.95it/s]\n"
     ]
    },
    {
     "name": "stdout",
     "output_type": "stream",
     "text": [
      "Epoch #30 | Train Avg Loss: 1.3765 \n"
     ]
    },
    {
     "name": "stderr",
     "output_type": "stream",
     "text": [
      "Test #30: 100%|██████████| 313/313 [00:07<00:00, 40.87it/s]\n"
     ]
    },
    {
     "name": "stdout",
     "output_type": "stream",
     "text": [
      "Epoch #30 | Test Avg Loss: 1.3795 \n",
      "              precision    recall  f1-score   support\n",
      "\n",
      "       plane       0.56      0.59      0.58      1000\n",
      "         car       0.60      0.66      0.63      1000\n",
      "        bird       0.40      0.30      0.34      1000\n",
      "         cat       0.34      0.31      0.33      1000\n",
      "        deer       0.41      0.44      0.42      1000\n",
      "         dog       0.42      0.37      0.39      1000\n",
      "        frog       0.47      0.68      0.56      1000\n",
      "       horse       0.59      0.54      0.57      1000\n",
      "        ship       0.64      0.62      0.63      1000\n",
      "       truck       0.58      0.51      0.54      1000\n",
      "\n",
      "    accuracy                           0.50     10000\n",
      "   macro avg       0.50      0.50      0.50     10000\n",
      "weighted avg       0.50      0.50      0.50     10000\n",
      "\n"
     ]
    },
    {
     "name": "stderr",
     "output_type": "stream",
     "text": [
      "Train #31: 100%|██████████| 1563/1563 [00:39<00:00, 39.70it/s]\n"
     ]
    },
    {
     "name": "stdout",
     "output_type": "stream",
     "text": [
      "Epoch #31 | Train Avg Loss: 1.3722 \n"
     ]
    },
    {
     "name": "stderr",
     "output_type": "stream",
     "text": [
      "Test #31: 100%|██████████| 313/313 [00:06<00:00, 48.96it/s]\n"
     ]
    },
    {
     "name": "stdout",
     "output_type": "stream",
     "text": [
      "Epoch #31 | Test Avg Loss: 1.3681 \n",
      "              precision    recall  f1-score   support\n",
      "\n",
      "       plane       0.57      0.58      0.58      1000\n",
      "         car       0.64      0.60      0.62      1000\n",
      "        bird       0.42      0.36      0.38      1000\n",
      "         cat       0.34      0.28      0.31      1000\n",
      "        deer       0.41      0.45      0.43      1000\n",
      "         dog       0.44      0.38      0.41      1000\n",
      "        frog       0.50      0.59      0.54      1000\n",
      "       horse       0.55      0.58      0.57      1000\n",
      "        ship       0.60      0.67      0.63      1000\n",
      "       truck       0.54      0.55      0.54      1000\n",
      "\n",
      "    accuracy                           0.50     10000\n",
      "   macro avg       0.50      0.50      0.50     10000\n",
      "weighted avg       0.50      0.50      0.50     10000\n",
      "\n"
     ]
    },
    {
     "name": "stderr",
     "output_type": "stream",
     "text": [
      "Train #32: 100%|██████████| 1563/1563 [00:40<00:00, 38.61it/s]\n"
     ]
    },
    {
     "name": "stdout",
     "output_type": "stream",
     "text": [
      "Epoch #32 | Train Avg Loss: 1.3745 \n"
     ]
    },
    {
     "name": "stderr",
     "output_type": "stream",
     "text": [
      "Test #32: 100%|██████████| 313/313 [00:06<00:00, 47.20it/s]\n"
     ]
    },
    {
     "name": "stdout",
     "output_type": "stream",
     "text": [
      "Epoch #32 | Test Avg Loss: 1.3783 \n",
      "              precision    recall  f1-score   support\n",
      "\n",
      "       plane       0.58      0.60      0.59      1000\n",
      "         car       0.60      0.62      0.61      1000\n",
      "        bird       0.42      0.34      0.38      1000\n",
      "         cat       0.36      0.32      0.34      1000\n",
      "        deer       0.45      0.36      0.40      1000\n",
      "         dog       0.46      0.34      0.39      1000\n",
      "        frog       0.47      0.69      0.56      1000\n",
      "       horse       0.58      0.56      0.57      1000\n",
      "        ship       0.60      0.70      0.64      1000\n",
      "       truck       0.53      0.58      0.55      1000\n",
      "\n",
      "    accuracy                           0.51     10000\n",
      "   macro avg       0.50      0.51      0.50     10000\n",
      "weighted avg       0.50      0.51      0.50     10000\n",
      "\n"
     ]
    },
    {
     "name": "stderr",
     "output_type": "stream",
     "text": [
      "Train #33: 100%|██████████| 1563/1563 [00:39<00:00, 39.22it/s]\n"
     ]
    },
    {
     "name": "stdout",
     "output_type": "stream",
     "text": [
      "Epoch #33 | Train Avg Loss: 1.3699 \n"
     ]
    },
    {
     "name": "stderr",
     "output_type": "stream",
     "text": [
      "Test #33: 100%|██████████| 313/313 [00:06<00:00, 47.40it/s]\n"
     ]
    },
    {
     "name": "stdout",
     "output_type": "stream",
     "text": [
      "Epoch #33 | Test Avg Loss: 1.3770 \n",
      "              precision    recall  f1-score   support\n",
      "\n",
      "       plane       0.59      0.57      0.58      1000\n",
      "         car       0.59      0.61      0.60      1000\n",
      "        bird       0.38      0.36      0.37      1000\n",
      "         cat       0.35      0.28      0.31      1000\n",
      "        deer       0.42      0.39      0.40      1000\n",
      "         dog       0.45      0.37      0.41      1000\n",
      "        frog       0.47      0.66      0.55      1000\n",
      "       horse       0.57      0.57      0.57      1000\n",
      "        ship       0.58      0.69      0.63      1000\n",
      "       truck       0.54      0.52      0.53      1000\n",
      "\n",
      "    accuracy                           0.50     10000\n",
      "   macro avg       0.50      0.50      0.50     10000\n",
      "weighted avg       0.50      0.50      0.50     10000\n",
      "\n"
     ]
    },
    {
     "name": "stderr",
     "output_type": "stream",
     "text": [
      "Train #34: 100%|██████████| 1563/1563 [00:36<00:00, 43.11it/s]\n"
     ]
    },
    {
     "name": "stdout",
     "output_type": "stream",
     "text": [
      "Epoch #34 | Train Avg Loss: 1.3686 \n"
     ]
    },
    {
     "name": "stderr",
     "output_type": "stream",
     "text": [
      "Test #34: 100%|██████████| 313/313 [00:08<00:00, 35.41it/s]\n"
     ]
    },
    {
     "name": "stdout",
     "output_type": "stream",
     "text": [
      "Epoch #34 | Test Avg Loss: 1.3769 \n",
      "              precision    recall  f1-score   support\n",
      "\n",
      "       plane       0.58      0.60      0.59      1000\n",
      "         car       0.59      0.68      0.63      1000\n",
      "        bird       0.42      0.30      0.35      1000\n",
      "         cat       0.36      0.26      0.30      1000\n",
      "        deer       0.43      0.37      0.40      1000\n",
      "         dog       0.41      0.39      0.40      1000\n",
      "        frog       0.44      0.71      0.54      1000\n",
      "       horse       0.57      0.56      0.56      1000\n",
      "        ship       0.63      0.65      0.64      1000\n",
      "       truck       0.56      0.53      0.54      1000\n",
      "\n",
      "    accuracy                           0.50     10000\n",
      "   macro avg       0.50      0.50      0.50     10000\n",
      "weighted avg       0.50      0.50      0.50     10000\n",
      "\n"
     ]
    },
    {
     "name": "stderr",
     "output_type": "stream",
     "text": [
      "Train #35: 100%|██████████| 1563/1563 [00:41<00:00, 37.55it/s]\n"
     ]
    },
    {
     "name": "stdout",
     "output_type": "stream",
     "text": [
      "Epoch #35 | Train Avg Loss: 1.3691 \n"
     ]
    },
    {
     "name": "stderr",
     "output_type": "stream",
     "text": [
      "Test #35: 100%|██████████| 313/313 [00:06<00:00, 47.37it/s]\n"
     ]
    },
    {
     "name": "stdout",
     "output_type": "stream",
     "text": [
      "Epoch #35 | Test Avg Loss: 1.3686 \n",
      "              precision    recall  f1-score   support\n",
      "\n",
      "       plane       0.57      0.61      0.59      1000\n",
      "         car       0.62      0.58      0.60      1000\n",
      "        bird       0.41      0.33      0.37      1000\n",
      "         cat       0.34      0.34      0.34      1000\n",
      "        deer       0.43      0.39      0.41      1000\n",
      "         dog       0.47      0.32      0.38      1000\n",
      "        frog       0.50      0.64      0.56      1000\n",
      "       horse       0.54      0.59      0.56      1000\n",
      "        ship       0.62      0.66      0.64      1000\n",
      "       truck       0.53      0.59      0.56      1000\n",
      "\n",
      "    accuracy                           0.51     10000\n",
      "   macro avg       0.50      0.51      0.50     10000\n",
      "weighted avg       0.50      0.51      0.50     10000\n",
      "\n"
     ]
    },
    {
     "name": "stderr",
     "output_type": "stream",
     "text": [
      "Train #36: 100%|██████████| 1563/1563 [00:40<00:00, 38.44it/s]\n"
     ]
    },
    {
     "name": "stdout",
     "output_type": "stream",
     "text": [
      "Epoch #36 | Train Avg Loss: 1.3677 \n"
     ]
    },
    {
     "name": "stderr",
     "output_type": "stream",
     "text": [
      "Test #36: 100%|██████████| 313/313 [00:07<00:00, 43.07it/s]\n"
     ]
    },
    {
     "name": "stdout",
     "output_type": "stream",
     "text": [
      "Epoch #36 | Test Avg Loss: 1.3713 \n",
      "              precision    recall  f1-score   support\n",
      "\n",
      "       plane       0.58      0.58      0.58      1000\n",
      "         car       0.59      0.66      0.62      1000\n",
      "        bird       0.42      0.31      0.35      1000\n",
      "         cat       0.35      0.24      0.28      1000\n",
      "        deer       0.41      0.48      0.44      1000\n",
      "         dog       0.43      0.42      0.43      1000\n",
      "        frog       0.49      0.65      0.56      1000\n",
      "       horse       0.57      0.57      0.57      1000\n",
      "        ship       0.60      0.66      0.63      1000\n",
      "       truck       0.58      0.52      0.54      1000\n",
      "\n",
      "    accuracy                           0.51     10000\n",
      "   macro avg       0.50      0.51      0.50     10000\n",
      "weighted avg       0.50      0.51      0.50     10000\n",
      "\n"
     ]
    },
    {
     "name": "stderr",
     "output_type": "stream",
     "text": [
      "Train #37: 100%|██████████| 1563/1563 [00:39<00:00, 39.24it/s]\n"
     ]
    },
    {
     "name": "stdout",
     "output_type": "stream",
     "text": [
      "Epoch #37 | Train Avg Loss: 1.3671 \n"
     ]
    },
    {
     "name": "stderr",
     "output_type": "stream",
     "text": [
      "Test #37: 100%|██████████| 313/313 [00:06<00:00, 47.90it/s]\n"
     ]
    },
    {
     "name": "stdout",
     "output_type": "stream",
     "text": [
      "Epoch #37 | Test Avg Loss: 1.3629 \n",
      "              precision    recall  f1-score   support\n",
      "\n",
      "       plane       0.63      0.57      0.60      1000\n",
      "         car       0.60      0.64      0.62      1000\n",
      "        bird       0.41      0.34      0.37      1000\n",
      "         cat       0.34      0.32      0.33      1000\n",
      "        deer       0.44      0.39      0.41      1000\n",
      "         dog       0.47      0.34      0.39      1000\n",
      "        frog       0.48      0.66      0.56      1000\n",
      "       horse       0.56      0.58      0.57      1000\n",
      "        ship       0.60      0.68      0.64      1000\n",
      "       truck       0.53      0.58      0.56      1000\n",
      "\n",
      "    accuracy                           0.51     10000\n",
      "   macro avg       0.51      0.51      0.51     10000\n",
      "weighted avg       0.51      0.51      0.51     10000\n",
      "\n"
     ]
    },
    {
     "name": "stderr",
     "output_type": "stream",
     "text": [
      "Train #38: 100%|██████████| 1563/1563 [00:39<00:00, 39.74it/s]\n"
     ]
    },
    {
     "name": "stdout",
     "output_type": "stream",
     "text": [
      "Epoch #38 | Train Avg Loss: 1.3603 \n"
     ]
    },
    {
     "name": "stderr",
     "output_type": "stream",
     "text": [
      "Test #38: 100%|██████████| 313/313 [00:06<00:00, 48.25it/s]\n"
     ]
    },
    {
     "name": "stdout",
     "output_type": "stream",
     "text": [
      "Epoch #38 | Test Avg Loss: 1.3739 \n",
      "              precision    recall  f1-score   support\n",
      "\n",
      "       plane       0.57      0.60      0.58      1000\n",
      "         car       0.61      0.66      0.63      1000\n",
      "        bird       0.43      0.29      0.35      1000\n",
      "         cat       0.34      0.35      0.35      1000\n",
      "        deer       0.40      0.50      0.44      1000\n",
      "         dog       0.46      0.33      0.39      1000\n",
      "        frog       0.49      0.63      0.55      1000\n",
      "       horse       0.57      0.56      0.57      1000\n",
      "        ship       0.66      0.62      0.64      1000\n",
      "       truck       0.57      0.54      0.56      1000\n",
      "\n",
      "    accuracy                           0.51     10000\n",
      "   macro avg       0.51      0.51      0.50     10000\n",
      "weighted avg       0.51      0.51      0.50     10000\n",
      "\n"
     ]
    },
    {
     "name": "stderr",
     "output_type": "stream",
     "text": [
      "Train #39: 100%|██████████| 1563/1563 [00:51<00:00, 30.20it/s]\n"
     ]
    },
    {
     "name": "stdout",
     "output_type": "stream",
     "text": [
      "Epoch #39 | Train Avg Loss: 1.3619 \n"
     ]
    },
    {
     "name": "stderr",
     "output_type": "stream",
     "text": [
      "Test #39: 100%|██████████| 313/313 [00:09<00:00, 32.36it/s]\n"
     ]
    },
    {
     "name": "stdout",
     "output_type": "stream",
     "text": [
      "Epoch #39 | Test Avg Loss: 1.3616 \n",
      "              precision    recall  f1-score   support\n",
      "\n",
      "       plane       0.59      0.59      0.59      1000\n",
      "         car       0.61      0.68      0.64      1000\n",
      "        bird       0.40      0.33      0.36      1000\n",
      "         cat       0.34      0.34      0.34      1000\n",
      "        deer       0.44      0.40      0.42      1000\n",
      "         dog       0.44      0.39      0.41      1000\n",
      "        frog       0.50      0.64      0.56      1000\n",
      "       horse       0.56      0.60      0.58      1000\n",
      "        ship       0.63      0.66      0.65      1000\n",
      "       truck       0.58      0.52      0.55      1000\n",
      "\n",
      "    accuracy                           0.51     10000\n",
      "   macro avg       0.51      0.51      0.51     10000\n",
      "weighted avg       0.51      0.51      0.51     10000\n",
      "\n"
     ]
    },
    {
     "name": "stderr",
     "output_type": "stream",
     "text": [
      "Train #40: 100%|██████████| 1563/1563 [00:50<00:00, 31.05it/s]\n"
     ]
    },
    {
     "name": "stdout",
     "output_type": "stream",
     "text": [
      "Epoch #40 | Train Avg Loss: 1.3593 \n"
     ]
    },
    {
     "name": "stderr",
     "output_type": "stream",
     "text": [
      "Test #40: 100%|██████████| 313/313 [00:10<00:00, 29.53it/s]"
     ]
    },
    {
     "name": "stdout",
     "output_type": "stream",
     "text": [
      "Epoch #40 | Test Avg Loss: 1.3738 \n",
      "              precision    recall  f1-score   support\n",
      "\n",
      "       plane       0.60      0.57      0.59      1000\n",
      "         car       0.60      0.60      0.60      1000\n",
      "        bird       0.44      0.32      0.37      1000\n",
      "         cat       0.35      0.28      0.31      1000\n",
      "        deer       0.42      0.40      0.41      1000\n",
      "         dog       0.42      0.41      0.42      1000\n",
      "        frog       0.48      0.66      0.55      1000\n",
      "       horse       0.54      0.61      0.57      1000\n",
      "        ship       0.61      0.68      0.64      1000\n",
      "       truck       0.54      0.54      0.54      1000\n",
      "\n",
      "    accuracy                           0.51     10000\n",
      "   macro avg       0.50      0.51      0.50     10000\n",
      "weighted avg       0.50      0.51      0.50     10000\n",
      "\n"
     ]
    },
    {
     "name": "stderr",
     "output_type": "stream",
     "text": [
      "\n"
     ]
    }
   ],
   "source": [
    "train_loss, test_loss = train(\n",
    "    model,\n",
    "    optim,\n",
    "    loss_function,\n",
    "    epochs=40,\n",
    "    device=device,\n",
    "    trainloader=trainloader,\n",
    "    testloader=testloader,\n",
    "    labels=classes\n",
    ")"
   ]
  },
  {
   "cell_type": "code",
   "execution_count": 66,
   "metadata": {},
   "outputs": [
    {
     "data": {
      "image/png": "[encoded data removed]",
      "text/plain": [
       "<Figure size 640x480 with 1 Axes>"
      ]
     },
     "metadata": {},
     "output_type": "display_data"
    }
   ],
   "source": [
    "plt.plot(train_loss, label=\"Avg train loss\")\n",
    "plt.plot(test_loss, label=\"Avg test loss\")\n",
    "plt.legend()\n",
    "plt.xlabel(\"Epoch\")\n",
    "plt.show()"
   ]
  },
  {
   "cell_type": "code",
   "execution_count": 67,
   "metadata": {},
   "outputs": [],
   "source": [
    "torch.save(model.state_dict(), TRAINED_MODELS / \"vae_state_dict_aug100_cls\")"
   ]
  },
  {
   "cell_type": "code",
   "execution_count": 68,
   "metadata": {},
   "outputs": [
    {
     "name": "stderr",
     "output_type": "stream",
     "text": [
      "Train #1: 100%|██████████| 1563/1563 [02:32<00:00, 10.26it/s]\n"
     ]
    },
    {
     "name": "stdout",
     "output_type": "stream",
     "text": [
      "Epoch #1 | Train Avg Loss: 1.3394 \n"
     ]
    },
    {
     "name": "stderr",
     "output_type": "stream",
     "text": [
      "Test #1: 100%|██████████| 313/313 [00:19<00:00, 15.99it/s]\n"
     ]
    },
    {
     "name": "stdout",
     "output_type": "stream",
     "text": [
      "Epoch #1 | Test Avg Loss: 1.3588 \n",
      "              precision    recall  f1-score   support\n",
      "\n",
      "       plane       0.59      0.59      0.59      1000\n",
      "         car       0.60      0.66      0.63      1000\n",
      "        bird       0.40      0.35      0.37      1000\n",
      "         cat       0.33      0.28      0.30      1000\n",
      "        deer       0.43      0.39      0.41      1000\n",
      "         dog       0.42      0.42      0.42      1000\n",
      "        frog       0.50      0.62      0.56      1000\n",
      "       horse       0.57      0.59      0.58      1000\n",
      "        ship       0.61      0.67      0.64      1000\n",
      "       truck       0.58      0.53      0.55      1000\n",
      "\n",
      "    accuracy                           0.51     10000\n",
      "   macro avg       0.50      0.51      0.51     10000\n",
      "weighted avg       0.50      0.51      0.51     10000\n",
      "\n"
     ]
    },
    {
     "name": "stderr",
     "output_type": "stream",
     "text": [
      "Train #2: 100%|██████████| 1563/1563 [02:06<00:00, 12.39it/s]\n"
     ]
    },
    {
     "name": "stdout",
     "output_type": "stream",
     "text": [
      "Epoch #2 | Train Avg Loss: 1.3338 \n"
     ]
    },
    {
     "name": "stderr",
     "output_type": "stream",
     "text": [
      "Test #2: 100%|██████████| 313/313 [00:21<00:00, 14.61it/s]\n"
     ]
    },
    {
     "name": "stdout",
     "output_type": "stream",
     "text": [
      "Epoch #2 | Test Avg Loss: 1.3540 \n",
      "              precision    recall  f1-score   support\n",
      "\n",
      "       plane       0.57      0.63      0.60      1000\n",
      "         car       0.59      0.68      0.63      1000\n",
      "        bird       0.43      0.34      0.38      1000\n",
      "         cat       0.35      0.30      0.32      1000\n",
      "        deer       0.45      0.39      0.42      1000\n",
      "         dog       0.44      0.38      0.40      1000\n",
      "        frog       0.49      0.66      0.56      1000\n",
      "       horse       0.58      0.56      0.57      1000\n",
      "        ship       0.62      0.66      0.64      1000\n",
      "       truck       0.55      0.54      0.54      1000\n",
      "\n",
      "    accuracy                           0.51     10000\n",
      "   macro avg       0.51      0.51      0.51     10000\n",
      "weighted avg       0.51      0.51      0.51     10000\n",
      "\n"
     ]
    },
    {
     "name": "stderr",
     "output_type": "stream",
     "text": [
      "Train #3: 100%|██████████| 1563/1563 [01:49<00:00, 14.29it/s]\n"
     ]
    },
    {
     "name": "stdout",
     "output_type": "stream",
     "text": [
      "Epoch #3 | Train Avg Loss: 1.3268 \n"
     ]
    },
    {
     "name": "stderr",
     "output_type": "stream",
     "text": [
      "Test #3: 100%|██████████| 313/313 [00:14<00:00, 21.33it/s]\n"
     ]
    },
    {
     "name": "stdout",
     "output_type": "stream",
     "text": [
      "Epoch #3 | Test Avg Loss: 1.3463 \n",
      "              precision    recall  f1-score   support\n",
      "\n",
      "       plane       0.58      0.61      0.60      1000\n",
      "         car       0.59      0.68      0.63      1000\n",
      "        bird       0.42      0.33      0.37      1000\n",
      "         cat       0.35      0.33      0.34      1000\n",
      "        deer       0.42      0.44      0.43      1000\n",
      "         dog       0.48      0.34      0.40      1000\n",
      "        frog       0.52      0.64      0.57      1000\n",
      "       horse       0.56      0.59      0.57      1000\n",
      "        ship       0.63      0.65      0.64      1000\n",
      "       truck       0.56      0.55      0.55      1000\n",
      "\n",
      "    accuracy                           0.52     10000\n",
      "   macro avg       0.51      0.52      0.51     10000\n",
      "weighted avg       0.51      0.52      0.51     10000\n",
      "\n"
     ]
    },
    {
     "name": "stderr",
     "output_type": "stream",
     "text": [
      "Train #4: 100%|██████████| 1563/1563 [03:32<00:00,  7.36it/s]\n"
     ]
    },
    {
     "name": "stdout",
     "output_type": "stream",
     "text": [
      "Epoch #4 | Train Avg Loss: 1.3269 \n"
     ]
    },
    {
     "name": "stderr",
     "output_type": "stream",
     "text": [
      "Test #4: 100%|██████████| 313/313 [00:43<00:00,  7.13it/s]\n"
     ]
    },
    {
     "name": "stdout",
     "output_type": "stream",
     "text": [
      "Epoch #4 | Test Avg Loss: 1.3570 \n",
      "              precision    recall  f1-score   support\n",
      "\n",
      "       plane       0.58      0.62      0.60      1000\n",
      "         car       0.61      0.65      0.63      1000\n",
      "        bird       0.39      0.37      0.38      1000\n",
      "         cat       0.35      0.28      0.31      1000\n",
      "        deer       0.42      0.41      0.42      1000\n",
      "         dog       0.45      0.37      0.41      1000\n",
      "        frog       0.50      0.62      0.55      1000\n",
      "       horse       0.56      0.57      0.57      1000\n",
      "        ship       0.60      0.67      0.64      1000\n",
      "       truck       0.58      0.54      0.56      1000\n",
      "\n",
      "    accuracy                           0.51     10000\n",
      "   macro avg       0.50      0.51      0.51     10000\n",
      "weighted avg       0.50      0.51      0.51     10000\n",
      "\n"
     ]
    },
    {
     "name": "stderr",
     "output_type": "stream",
     "text": [
      "Train #5: 100%|██████████| 1563/1563 [01:52<00:00, 13.87it/s]\n"
     ]
    },
    {
     "name": "stdout",
     "output_type": "stream",
     "text": [
      "Epoch #5 | Train Avg Loss: 1.3276 \n"
     ]
    },
    {
     "name": "stderr",
     "output_type": "stream",
     "text": [
      "Test #5: 100%|██████████| 313/313 [00:24<00:00, 12.88it/s]\n"
     ]
    },
    {
     "name": "stdout",
     "output_type": "stream",
     "text": [
      "Epoch #5 | Test Avg Loss: 1.3511 \n",
      "              precision    recall  f1-score   support\n",
      "\n",
      "       plane       0.58      0.59      0.59      1000\n",
      "         car       0.62      0.66      0.64      1000\n",
      "        bird       0.39      0.35      0.37      1000\n",
      "         cat       0.35      0.32      0.33      1000\n",
      "        deer       0.43      0.42      0.42      1000\n",
      "         dog       0.46      0.35      0.40      1000\n",
      "        frog       0.49      0.67      0.56      1000\n",
      "       horse       0.62      0.54      0.58      1000\n",
      "        ship       0.61      0.69      0.65      1000\n",
      "       truck       0.56      0.55      0.55      1000\n",
      "\n",
      "    accuracy                           0.51     10000\n",
      "   macro avg       0.51      0.51      0.51     10000\n",
      "weighted avg       0.51      0.51      0.51     10000\n",
      "\n"
     ]
    },
    {
     "name": "stderr",
     "output_type": "stream",
     "text": [
      "Train #6: 100%|██████████| 1563/1563 [01:27<00:00, 17.89it/s]\n"
     ]
    },
    {
     "name": "stdout",
     "output_type": "stream",
     "text": [
      "Epoch #6 | Train Avg Loss: 1.3239 \n"
     ]
    },
    {
     "name": "stderr",
     "output_type": "stream",
     "text": [
      "Test #6: 100%|██████████| 313/313 [00:16<00:00, 19.28it/s]\n"
     ]
    },
    {
     "name": "stdout",
     "output_type": "stream",
     "text": [
      "Epoch #6 | Test Avg Loss: 1.3510 \n",
      "              precision    recall  f1-score   support\n",
      "\n",
      "       plane       0.56      0.62      0.59      1000\n",
      "         car       0.62      0.62      0.62      1000\n",
      "        bird       0.40      0.34      0.37      1000\n",
      "         cat       0.35      0.31      0.33      1000\n",
      "        deer       0.41      0.43      0.42      1000\n",
      "         dog       0.44      0.38      0.41      1000\n",
      "        frog       0.52      0.62      0.57      1000\n",
      "       horse       0.58      0.59      0.58      1000\n",
      "        ship       0.61      0.67      0.64      1000\n",
      "       truck       0.57      0.52      0.54      1000\n",
      "\n",
      "    accuracy                           0.51     10000\n",
      "   macro avg       0.51      0.51      0.51     10000\n",
      "weighted avg       0.51      0.51      0.51     10000\n",
      "\n"
     ]
    },
    {
     "name": "stderr",
     "output_type": "stream",
     "text": [
      "Train #7: 100%|██████████| 1563/1563 [01:39<00:00, 15.77it/s]\n"
     ]
    },
    {
     "name": "stdout",
     "output_type": "stream",
     "text": [
      "Epoch #7 | Train Avg Loss: 1.3260 \n"
     ]
    },
    {
     "name": "stderr",
     "output_type": "stream",
     "text": [
      "Test #7: 100%|██████████| 313/313 [00:16<00:00, 19.54it/s]\n"
     ]
    },
    {
     "name": "stdout",
     "output_type": "stream",
     "text": [
      "Epoch #7 | Test Avg Loss: 1.3475 \n",
      "              precision    recall  f1-score   support\n",
      "\n",
      "       plane       0.59      0.61      0.60      1000\n",
      "         car       0.61      0.63      0.62      1000\n",
      "        bird       0.41      0.37      0.39      1000\n",
      "         cat       0.35      0.31      0.33      1000\n",
      "        deer       0.43      0.43      0.43      1000\n",
      "         dog       0.45      0.36      0.40      1000\n",
      "        frog       0.52      0.62      0.57      1000\n",
      "       horse       0.58      0.57      0.58      1000\n",
      "        ship       0.62      0.67      0.64      1000\n",
      "       truck       0.53      0.58      0.55      1000\n",
      "\n",
      "    accuracy                           0.52     10000\n",
      "   macro avg       0.51      0.52      0.51     10000\n",
      "weighted avg       0.51      0.52      0.51     10000\n",
      "\n"
     ]
    },
    {
     "name": "stderr",
     "output_type": "stream",
     "text": [
      "Train #8: 100%|██████████| 1563/1563 [01:27<00:00, 17.90it/s]\n"
     ]
    },
    {
     "name": "stdout",
     "output_type": "stream",
     "text": [
      "Epoch #8 | Train Avg Loss: 1.3213 \n"
     ]
    },
    {
     "name": "stderr",
     "output_type": "stream",
     "text": [
      "Test #8: 100%|██████████| 313/313 [00:15<00:00, 20.30it/s]\n"
     ]
    },
    {
     "name": "stdout",
     "output_type": "stream",
     "text": [
      "Epoch #8 | Test Avg Loss: 1.3482 \n",
      "              precision    recall  f1-score   support\n",
      "\n",
      "       plane       0.57      0.60      0.59      1000\n",
      "         car       0.63      0.62      0.63      1000\n",
      "        bird       0.40      0.38      0.39      1000\n",
      "         cat       0.34      0.30      0.32      1000\n",
      "        deer       0.42      0.42      0.42      1000\n",
      "         dog       0.45      0.36      0.40      1000\n",
      "        frog       0.52      0.64      0.57      1000\n",
      "       horse       0.57      0.58      0.57      1000\n",
      "        ship       0.61      0.67      0.64      1000\n",
      "       truck       0.56      0.55      0.55      1000\n",
      "\n",
      "    accuracy                           0.51     10000\n",
      "   macro avg       0.51      0.51      0.51     10000\n",
      "weighted avg       0.51      0.51      0.51     10000\n",
      "\n"
     ]
    },
    {
     "name": "stderr",
     "output_type": "stream",
     "text": [
      "Train #9: 100%|██████████| 1563/1563 [01:51<00:00, 13.97it/s]\n"
     ]
    },
    {
     "name": "stdout",
     "output_type": "stream",
     "text": [
      "Epoch #9 | Train Avg Loss: 1.3228 \n"
     ]
    },
    {
     "name": "stderr",
     "output_type": "stream",
     "text": [
      "Test #9: 100%|██████████| 313/313 [00:21<00:00, 14.86it/s]\n"
     ]
    },
    {
     "name": "stdout",
     "output_type": "stream",
     "text": [
      "Epoch #9 | Test Avg Loss: 1.3570 \n",
      "              precision    recall  f1-score   support\n",
      "\n",
      "       plane       0.58      0.60      0.59      1000\n",
      "         car       0.60      0.66      0.63      1000\n",
      "        bird       0.42      0.36      0.38      1000\n",
      "         cat       0.35      0.30      0.32      1000\n",
      "        deer       0.41      0.41      0.41      1000\n",
      "         dog       0.46      0.36      0.40      1000\n",
      "        frog       0.48      0.67      0.56      1000\n",
      "       horse       0.61      0.56      0.58      1000\n",
      "        ship       0.59      0.70      0.64      1000\n",
      "       truck       0.57      0.52      0.54      1000\n",
      "\n",
      "    accuracy                           0.51     10000\n",
      "   macro avg       0.51      0.51      0.51     10000\n",
      "weighted avg       0.51      0.51      0.51     10000\n",
      "\n"
     ]
    },
    {
     "name": "stderr",
     "output_type": "stream",
     "text": [
      "Train #10: 100%|██████████| 1563/1563 [01:21<00:00, 19.26it/s]\n"
     ]
    },
    {
     "name": "stdout",
     "output_type": "stream",
     "text": [
      "Epoch #10 | Train Avg Loss: 1.3229 \n"
     ]
    },
    {
     "name": "stderr",
     "output_type": "stream",
     "text": [
      "Test #10: 100%|██████████| 313/313 [00:10<00:00, 30.14it/s]"
     ]
    },
    {
     "name": "stdout",
     "output_type": "stream",
     "text": [
      "Epoch #10 | Test Avg Loss: 1.3512 \n",
      "              precision    recall  f1-score   support\n",
      "\n",
      "       plane       0.57      0.60      0.59      1000\n",
      "         car       0.63      0.63      0.63      1000\n",
      "        bird       0.39      0.36      0.38      1000\n",
      "         cat       0.34      0.28      0.31      1000\n",
      "        deer       0.42      0.40      0.41      1000\n",
      "         dog       0.44      0.38      0.41      1000\n",
      "        frog       0.49      0.66      0.56      1000\n",
      "       horse       0.59      0.57      0.58      1000\n",
      "        ship       0.61      0.66      0.64      1000\n",
      "       truck       0.57      0.54      0.56      1000\n",
      "\n",
      "    accuracy                           0.51     10000\n",
      "   macro avg       0.51      0.51      0.51     10000\n",
      "weighted avg       0.51      0.51      0.51     10000\n",
      "\n"
     ]
    },
    {
     "name": "stderr",
     "output_type": "stream",
     "text": [
      "\n"
     ]
    }
   ],
   "source": [
    "optim = Adam(model.parameters(), lr=1e-4)\n",
    "train_loss, test_loss = train(\n",
    "    model,\n",
    "    optim,\n",
    "    loss_function,\n",
    "    epochs=10,\n",
    "    device=device,\n",
    "    trainloader=trainloader,\n",
    "    testloader=testloader,\n",
    "    labels=classes\n",
    ")"
   ]
  },
  {
   "cell_type": "code",
   "execution_count": 69,
   "metadata": {},
   "outputs": [
    {
     "data": {
      "image/png": "[encoded data removed]",
      "text/plain": [
       "<Figure size 640x480 with 1 Axes>"
      ]
     },
     "metadata": {},
     "output_type": "display_data"
    }
   ],
   "source": [
    "plt.plot(train_loss, label=\"Avg train loss\")\n",
    "plt.plot(test_loss, label=\"Avg test loss\")\n",
    "plt.legend()\n",
    "plt.xlabel(\"Epoch\")\n",
    "plt.show()"
   ]
  }
 ],
 "metadata": {
  "kernelspec": {
   "display_name": ".env",
   "language": "python",
   "name": "python3"
  },
  "language_info": {
   "codemirror_mode": {
    "name": "ipython",
    "version": 3
   },
   "file_extension": ".py",
   "mimetype": "text/x-python",
   "name": "python",
   "nbconvert_exporter": "python",
   "pygments_lexer": "ipython3",
   "version": "3.9.6"
  },
  "orig_nbformat": 4,
  "vscode": {
   "interpreter": {
    "hash": "0f75c0c8c2d7cdc5b7009fb59c6c39d41e1dc7738cb4764e7938041d68d9b104"
   }
  }
 },
 "nbformat": 4,
 "nbformat_minor": 2
}
